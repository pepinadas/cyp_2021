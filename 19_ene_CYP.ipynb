{
  "nbformat": 4,
  "nbformat_minor": 0,
  "metadata": {
    "colab": {
      "name": "19_ene_CYP.ipynb",
      "provenance": [],
      "collapsed_sections": [],
      "authorship_tag": "ABX9TyMMm66cGNmuX996n4kpmPCB",
      "include_colab_link": true
    },
    "kernelspec": {
      "name": "python3",
      "display_name": "Python 3"
    }
  },
  "cells": [
    {
      "cell_type": "markdown",
      "metadata": {
        "id": "view-in-github",
        "colab_type": "text"
      },
      "source": [
        "<a href=\"https://colab.research.google.com/github/pepinadas/cyp_2021/blob/main/19_ene_CYP.ipynb\" target=\"_parent\"><img src=\"https://colab.research.google.com/assets/colab-badge.svg\" alt=\"Open In Colab\"/></a>"
      ]
    },
    {
      "cell_type": "markdown",
      "metadata": {
        "id": "d8oRt8eHq2VE"
      },
      "source": [
        "# Slicing (Continuación)\r\n",
        "\r\n",
        "[ inicio : stop : incremento]\r\n",
        "\r\n",
        "Notas:\r\n",
        "1. El stop no es incluido.\r\n",
        "1. El incremento se puede modificar\r\n",
        "1. Soporta indexado alternativo (negativos)"
      ]
    },
    {
      "cell_type": "code",
      "metadata": {
        "colab": {
          "base_uri": "https://localhost:8080/"
        },
        "id": "HlY2XZxbrV4I",
        "outputId": "336a5032-4964-4042-8e71-a4f7465e2556"
      },
      "source": [
        "frase = \"Como hacer a la gente mas positiva?, muy facil, Has que pierdan un electron!\"\r\n",
        "print(frase)\r\n",
        "  # imprimir \"ace\" de la palabra hacer\r\n",
        "print(frase [6:9:1])\r\n",
        "\r\n",
        "\r\n",
        "#valores por defecto\r\n",
        "\r\n",
        "print(frase[ :5:2 ])\r\n",
        "\r\n",
        "print(len(frase))\r\n",
        "#incremento\r\n",
        "print(frase[ : : 2]) #Toda la frase\r\n",
        "print(frase[-1 : :-1]) #Inverso -77\r\n",
        "\r\n",
        "nombre = \"Juan José\"\r\n",
        "print(nombre[1::-1])\r\n",
        "\r\n",
        "primer = nombre[:4:]\r\n",
        "print(primer)\r\n",
        "\r\n",
        "print(nombre[-9::1])"
      ],
      "execution_count": 13,
      "outputs": [
        {
          "output_type": "stream",
          "text": [
            "Como hacer a la gente mas positiva?, muy facil, Has que pierdan un electron!\n",
            "ace\n",
            "Cm \n",
            "76\n",
            "Cm ae  agnemspstv? u ai,Hsqepednu lcrn\n",
            "!nortcele nu nadreip euq saH ,licaf yum ,?avitisop sam etneg al a recah omoC\n",
            "uJ\n",
            "Juan\n",
            "Juan José\n"
          ],
          "name": "stdout"
        }
      ]
    },
    {
      "cell_type": "markdown",
      "metadata": {
        "id": "ssSpqvIQxTkz"
      },
      "source": [
        "# Métodos de la clase String(str)\r\n",
        "En python todo es un objeto (P.0.0.), eso significa que cada tipo de dato trae consigo métodos (funciones) incluidas.\r\n",
        "\r\n",
        "Para identificar los metodos disponibles se puede usar una de dos funciones:\r\n",
        "1. dir( str ) # Resumen de los metodos de esa clase\r\n",
        "2. help( str ) #informacion completa de los metodos de esa clase.\r\n"
      ]
    },
    {
      "cell_type": "code",
      "metadata": {
        "colab": {
          "base_uri": "https://localhost:8080/"
        },
        "id": "8f7EeRkGyN8d",
        "outputId": "1eb46aef-678c-4be7-d23f-aea4aa3b3dba"
      },
      "source": [
        "nombre = \"Juan José\"\r\n",
        "print(nombre)\r\n",
        "print(dir( str))"
      ],
      "execution_count": 15,
      "outputs": [
        {
          "output_type": "stream",
          "text": [
            "Juan José\n",
            "['__add__', '__class__', '__contains__', '__delattr__', '__dir__', '__doc__', '__eq__', '__format__', '__ge__', '__getattribute__', '__getitem__', '__getnewargs__', '__gt__', '__hash__', '__init__', '__init_subclass__', '__iter__', '__le__', '__len__', '__lt__', '__mod__', '__mul__', '__ne__', '__new__', '__reduce__', '__reduce_ex__', '__repr__', '__rmod__', '__rmul__', '__setattr__', '__sizeof__', '__str__', '__subclasshook__', 'capitalize', 'casefold', 'center', 'count', 'encode', 'endswith', 'expandtabs', 'find', 'format', 'format_map', 'index', 'isalnum', 'isalpha', 'isdecimal', 'isdigit', 'isidentifier', 'islower', 'isnumeric', 'isprintable', 'isspace', 'istitle', 'isupper', 'join', 'ljust', 'lower', 'lstrip', 'maketrans', 'partition', 'replace', 'rfind', 'rindex', 'rjust', 'rpartition', 'rsplit', 'rstrip', 'split', 'splitlines', 'startswith', 'strip', 'swapcase', 'title', 'translate', 'upper', 'zfill']\n"
          ],
          "name": "stdout"
        }
      ]
    },
    {
      "cell_type": "markdown",
      "metadata": {
        "id": "Hgba3tGYyuhE"
      },
      "source": [
        "Los nombre de métodos que inician con doble guión, bajo significa que son métodos privador (POO), y no tendrías por que usarlos como programador consumidor.\r\n",
        "\r\n",
        "Los demás métodos son públicos y son de libre uso.\r\n",
        "\r\n"
      ]
    },
    {
      "cell_type": "code",
      "metadata": {
        "colab": {
          "base_uri": "https://localhost:8080/"
        },
        "id": "cXEW73fVzcnR",
        "outputId": "14b81e79-a3cc-495f-8877-291efd164fd8"
      },
      "source": [
        "print(nombre)\r\n",
        "print( nombre.islower() )\r\n",
        "nombre = \"PEDRO FERNANDEZ\"\r\n",
        "print(nombre.capitalize())\r\n",
        "print(nombre.endswith(\"DEZ\"))\r\n",
        "print(nombre.replace(\"ED\" , \"**\"))\r\n",
        "print(nombre.replace(\"E\",\"*\"))\r\n",
        "ind_e = nombre.find(\"E\")\r\n",
        "print(ind_e)\r\n",
        "nombre[ind_e]\r\n",
        "nombre = nombre[:ind_e:] + \"@\" + nombre[ind_e+1::]\r\n",
        "print(nombre)\r\n",
        "print(nombre.replace(\"E\",\"@\",0))\r\n",
        "print(nombre.lower())\r\n",
        "nombre = \"jose\"\r\n",
        "print(nombre.upper())\r\n",
        "nombre = \"josé josé, el principe de la canción\"\r\n",
        "print(nombre.count(\"josé\"))"
      ],
      "execution_count": 39,
      "outputs": [
        {
          "output_type": "stream",
          "text": [
            "P@DRO FERNANDEZ\n",
            "False\n",
            "Pedro fernandez\n",
            "True\n",
            "P**RO FERNANDEZ\n",
            "P*DRO F*RNAND*Z\n",
            "1\n",
            "P@DRO FERNANDEZ\n",
            "P@DRO FERNANDEZ\n",
            "p@dro fernandez\n",
            "JOSE\n",
            "2\n"
          ],
          "name": "stdout"
        }
      ]
    },
    {
      "cell_type": "code",
      "metadata": {
        "colab": {
          "base_uri": "https://localhost:8080/"
        },
        "id": "Iu7xmt8Sz6JA",
        "outputId": "671c0afa-01d2-4e8d-d7ad-5e8ab1b12c34"
      },
      "source": [
        "print( help(str.replace))"
      ],
      "execution_count": 29,
      "outputs": [
        {
          "output_type": "stream",
          "text": [
            "Help on method_descriptor:\n",
            "\n",
            "find(...)\n",
            "    S.find(sub[, start[, end]]) -> int\n",
            "    \n",
            "    Return the lowest index in S where substring sub is found,\n",
            "    such that sub is contained within S[start:end].  Optional\n",
            "    arguments start and end are interpreted as in slice notation.\n",
            "    \n",
            "    Return -1 on failure.\n",
            "\n",
            "None\n"
          ],
          "name": "stdout"
        }
      ]
    },
    {
      "cell_type": "code",
      "metadata": {
        "colab": {
          "base_uri": "https://localhost:8080/"
        },
        "id": "znUMxdcl5MJZ",
        "outputId": "d5915660-2795-4521-ac92-c8ba6271cbee"
      },
      "source": [
        "#metodos para pricesar Strings\r\n",
        "\r\n",
        "numeros =\" 2    ,     1,  3,   4,      5,   45    ,   7  \"\r\n",
        "print(numeros)\r\n",
        "#Como extraigo los numeros de la cadena\r\n",
        "#Paso 1, eliminar los espacios al principio y al final con strip()\r\n",
        "numeros = numeros.strip()\r\n",
        "print(numeros)\r\n",
        "\r\n",
        "#Paso 2, separo por comas\r\n",
        "numeros = numeros.split(\",\")\r\n",
        "print(numeros)\r\n",
        "\r\n",
        "#Paso 3, con un for e indices limpiar cadenas de la lista\r\n",
        "\r\n",
        "for indice in range( len(numeros) ):\r\n",
        "  numeros[indice] = numeros[indice].strip()\r\n",
        "print(numeros)\r\n",
        "\r\n",
        "#Paso 4, convertirlos a tipo entero\r\n",
        "\r\n",
        "for indice in range( len(numeros) ):\r\n",
        "  numeros[indice] = int( numeros[indice])\r\n",
        "print(numeros)\r\n",
        "\r\n",
        "#Paso 5, usar los numeros\r\n",
        "\r\n",
        "print(help(str.split))"
      ],
      "execution_count": 49,
      "outputs": [
        {
          "output_type": "stream",
          "text": [
            " 2    ,     1,  3,   4,      5,   45    ,   7  \n",
            "2    ,     1,  3,   4,      5,   45    ,   7\n",
            "['2    ', '     1', '  3', '   4', '      5', '   45    ', '   7']\n",
            "['2', '1', '3', '4', '5', '45', '7']\n",
            "[2, 1, 3, 4, 5, 45, 7]\n",
            "Help on method_descriptor:\n",
            "\n",
            "split(...)\n",
            "    S.split(sep=None, maxsplit=-1) -> list of strings\n",
            "    \n",
            "    Return a list of the words in S, using sep as the\n",
            "    delimiter string.  If maxsplit is given, at most maxsplit\n",
            "    splits are done. If sep is not specified or is None, any\n",
            "    whitespace string is a separator and empty strings are\n",
            "    removed from the result.\n",
            "\n",
            "None\n"
          ],
          "name": "stdout"
        }
      ]
    }
  ]
}