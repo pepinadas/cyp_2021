{
  "nbformat": 4,
  "nbformat_minor": 0,
  "metadata": {
    "colab": {
      "name": "Tarea 5.ipynb",
      "provenance": [],
      "collapsed_sections": [],
      "authorship_tag": "ABX9TyNPoq1F4dMa1UyGYm2Rf8cQ",
      "include_colab_link": true
    },
    "kernelspec": {
      "name": "python3",
      "display_name": "Python 3"
    }
  },
  "cells": [
    {
      "cell_type": "markdown",
      "metadata": {
        "id": "view-in-github",
        "colab_type": "text"
      },
      "source": [
        "<a href=\"https://colab.research.google.com/github/pepinadas/cyp_2021/blob/main/Tarea_5.ipynb\" target=\"_parent\"><img src=\"https://colab.research.google.com/assets/colab-badge.svg\" alt=\"Open In Colab\"/></a>"
      ]
    },
    {
      "cell_type": "code",
      "metadata": {
        "colab": {
          "base_uri": "https://localhost:8080/"
        },
        "id": "WgrsoTYuFjMN",
        "outputId": "a4791754-5bf5-4832-84be-b8a78c72a196"
      },
      "source": [
        "#Ejemplo 3.1\n",
        "\n",
        "Sue1 = float(input(\"Colocar el salario del empleador 1\\n$\"))\n",
        "Sue2 = float(input(\"Colocar el salario del empleador 2\\n$\"))\n",
        "Sue3 = float(input(\"Colocar el salario del empleador 3\\n$\"))\n",
        "Sue4 = float(input(\"Colocar el salario del empleador 4\\n$\"))\n",
        "Sue5 = float(input(\"Colocar el salario del empleador 5\\n$\"))\n",
        "Sue6 = float(input(\"Colocar el salario del empleador 6\\n$\"))\n",
        "Sue7 = float(input(\"Colocar el salario del empleador 7\\n$\"))\n",
        "Sue8 = float(input(\"Colocar el salario del empleador 8\\n$\"))\n",
        "Sue9 = float(input(\"Colocar el salario del empleador 9\\n$\"))\n",
        "Sue10 = float(input(\"Colocar el salario del empleador 10\\n$\"))\n",
        "\n",
        "Nomina = Sue1+Sue2+Sue3+Sue4+Sue5+Sue6+Sue7+Sue8+Sue9+Sue10\n",
        "\n",
        "print(\"La nomina de la empresa es $\",Nomina)0"
      ],
      "execution_count": null,
      "outputs": [
        {
          "output_type": "stream",
          "text": [
            "Colocar el salario del empleador 1\n",
            "$10\n",
            "Colocar el salario del empleador 2\n",
            "$10\n",
            "Colocar el salario del empleador 3\n",
            "$1\n",
            "Colocar el salario del empleador 4\n",
            "$10\n",
            "Colocar el salario del empleador 5\n",
            "$10\n",
            "Colocar el salario del empleador 6\n",
            "$10\n",
            "Colocar el salario del empleador 7\n",
            "$10\n",
            "Colocar el salario del empleador 8\n",
            "$10\n",
            "Colocar el salario del empleador 9\n",
            "$10\n",
            "Colocar el salario del empleador 10\n",
            "$10\n",
            "La nomina de la empresa es $ 91.0\n"
          ],
          "name": "stdout"
        }
      ]
    },
    {
      "cell_type": "code",
      "metadata": {
        "colab": {
          "base_uri": "https://localhost:8080/"
        },
        "id": "1aq9CZqJCHym",
        "outputId": "77197f7e-0097-4294-df86-4bbee2db6000"
      },
      "source": [
        "#Ejemplo 3.2\n",
        "\n",
        "Nomina = 0\n",
        "\n",
        "i = 1\n",
        "\n",
        "while i <=10:\n",
        "  Sue = float(input(f\"Colocar el sueldo del empleador {i}\\n$\"))\n",
        "  Nomina = Nomina + Sue\n",
        "  i=i+1\n",
        "print(\"La nomina de la empresa es $\",Nomina)\n"
      ],
      "execution_count": null,
      "outputs": [
        {
          "output_type": "stream",
          "text": [
            "Colocar el sueldo del empleador 1\n",
            "$10\n",
            "Colocar el sueldo del empleador 2\n",
            "$10\n",
            "Colocar el sueldo del empleador 3\n",
            "$10\n",
            "Colocar el sueldo del empleador 4\n",
            "$10\n",
            "Colocar el sueldo del empleador 5\n",
            "$10\n",
            "Colocar el sueldo del empleador 6\n",
            "$0\n",
            "Colocar el sueldo del empleador 7\n",
            "$10\n",
            "Colocar el sueldo del empleador 8\n",
            "$10\n",
            "Colocar el sueldo del empleador 9\n",
            "$1\n",
            "Colocar el sueldo del empleador 10\n",
            "$10\n",
            "La nomina de la empresa es $ 81.0\n"
          ],
          "name": "stdout"
        }
      ]
    },
    {
      "cell_type": "code",
      "metadata": {
        "id": "Cr-C8LRuGmtT",
        "colab": {
          "base_uri": "https://localhost:8080/"
        },
        "outputId": "97a3d251-6e8c-4296-eb0f-f2b6f0761298"
      },
      "source": [
        "1.#Ejemplo 3.4\n",
        "\n",
        "SumGas = 0\n",
        "\n",
        "Gasto = float(input(\"Colocar gasto $\"))\n",
        "\n",
        "while Gasto > -1:\n",
        "  SumGas = SumGas + Gasto\n",
        "\n",
        "  Gasto = float(input(\"Colocar gasto $\"))\n",
        "\n",
        "print(\"El gasto total realizado es\",SumGas)"
      ],
      "execution_count": 3,
      "outputs": [
        {
          "output_type": "stream",
          "text": [
            "Colocar gasto $2528\n",
            "Colocar gasto $3500\n",
            "Colocar gasto $1600\n",
            "Colocar gasto $1850\n",
            "Colocar gasto $150\n",
            "Colocar gasto $-1\n",
            "El gasto total realizado es 9628.0\n"
          ],
          "name": "stdout"
        }
      ]
    }
  ]
}