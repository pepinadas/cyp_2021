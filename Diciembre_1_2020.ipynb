{
  "nbformat": 4,
  "nbformat_minor": 0,
  "metadata": {
    "colab": {
      "name": "Diciembre_1_2020.ipynb",
      "provenance": [],
      "authorship_tag": "ABX9TyOOwKnNjh9k1RxDFN2HUqxf",
      "include_colab_link": true
    },
    "kernelspec": {
      "name": "python3",
      "display_name": "Python 3"
    }
  },
  "cells": [
    {
      "cell_type": "markdown",
      "metadata": {
        "id": "view-in-github",
        "colab_type": "text"
      },
      "source": [
        "<a href=\"https://colab.research.google.com/github/pepinadas/cyp_2021/blob/main/Diciembre_1_2020.ipynb\" target=\"_parent\"><img src=\"https://colab.research.google.com/assets/colab-badge.svg\" alt=\"Open In Colab\"/></a>"
      ]
    },
    {
      "cell_type": "code",
      "metadata": {
        "colab": {
          "base_uri": "https://localhost:8080/"
        },
        "id": "o3LRZUJCTOHC",
        "outputId": "e0891169-fa21-48c7-89b5-25c1b5ec18a1"
      },
      "source": [
        "#Ejemplo 1\n",
        "#Pedir 3 números enteros y mostrar el mayor de los tres\n",
        "numero1=int(input(\"Introduce el primer numero\"))\n",
        "numero2=int(input(\"Introduce el segundo numero\"))\n",
        "numero3=int(input(\"Introduce el tercer numero\"))\n",
        "\n",
        "if numero1 >= numero2 and numero1>=numero3:\n",
        "  print(\"es mayor\",numero1)\n",
        "elif numero2 >= numero1 and numero2>=numero3:\n",
        "  print(\"Es el mayor\",numero2)\n",
        "else:\n",
        "  print(\"Es el mayor\",numero3)"
      ],
      "execution_count": 10,
      "outputs": [
        {
          "output_type": "stream",
          "text": [
            "Introduce el primer numero1\n",
            "Introduce el segundo numero2\n",
            "Introduce el tercer numero10\n",
            "Es el mayor 10\n"
          ],
          "name": "stdout"
        }
      ]
    },
    {
      "cell_type": "code",
      "metadata": {
        "colab": {
          "base_uri": "https://localhost:8080/"
        },
        "id": "Yjng5edlVkfY",
        "outputId": "b83f28aa-8d1a-4f35-d7ab-d943c993dc0c"
      },
      "source": [
        "#Ejemplo 2\n",
        "Nombre=input(\"Colocar el nombre del trabajador\\n\")\n",
        "Salario=float(input(\"Ingresar tu salario: \"))\n",
        "Horas=float(input(\"¿Cuantas horas trabajo esta semana?\\n\"))\n",
        "\n",
        "#Evaluar el sueldo\n",
        "#Perdonar que no sea igual, me puse a hacerlo como lo dijo y cuando puse atencion, el codigo ya era muy diferente! :c\n",
        "\n",
        "if (Horas>=40):\n",
        "  print(\"El sueldo de\", Nombre,\"es:\",(((Horas-40)*Salario)*2)+(Salario*40))\n",
        "else :\n",
        "  Salario = Horas * Salario\n",
        "  print(f\"El sueldo de {Nombre} es ${Salario}\")\n"
      ],
      "execution_count": 23,
      "outputs": [
        {
          "output_type": "stream",
          "text": [
            "Colocar el nombre del trabajador\n",
            "41\n",
            "Ingresar tu salario: 10\n",
            "¿Cuantas horas trabajo esta semana?\n",
            "45\n",
            "El sueldo de 41 es: 700.0\n"
          ],
          "name": "stdout"
        }
      ]
    },
    {
      "cell_type": "code",
      "metadata": {
        "colab": {
          "base_uri": "https://localhost:8080/"
        },
        "id": "JJlybE46Zgn_",
        "outputId": "5b17046e-ac12-4ba9-f849-28912426d672"
      },
      "source": [
        "#Ejemplo 3\n",
        "#Calcular el salario semanal de x trabajador\n",
        "#El salario semanal se calcula en base a las horas semanales trabajadas\n",
        "#El pago por hora es variable (se pide por teclado)\n",
        "#Si las horas trabajadas superan las 40 horas, el pago por hora extra es:\n",
        "#Doble en el rango de 41horas a 50horas\n",
        "#Triple en el rango de 51horas a 60 horas\n",
        "#Incentivo de $2000 si rebasa las 60 horas.\n",
        "\n",
        "Nombre=input(\"Colocar el nombre del trabajador\\n\")\n",
        "Salario=float(input(\"Ingresar tu salario: \"))\n",
        "Horas=float(input(\"¿Cuantas horas trabajo esta semana?\\n\"))\n",
        "\n",
        "#Evaluar sueldo\n",
        "\n",
        "if(Horas<=40):\n",
        "  Salario = Horas * Salario\n",
        "  print(\"El sueldo Final de\", Nombre, \"Es $\",Salario) \n",
        "elif(Horas> 40 and Horas<=50):\n",
        "  print(\"Pago de horas extras dobles: $\",Salario*(Horas-40))\n",
        "  print(\"El sueldo final de\",Nombre,\"Es $\",(((Horas-40)*Salario)*2)+(Salario*40))\n",
        "else:\n",
        "  if(Horas>50 and Horas<=60):\n",
        "    print(\"Pago de horas extras dobles: $\",Salario**10)\n",
        "    print(\"Pago de horas extras triples: $\",Salario*(Horas-50))\n",
        "    print(\"El sueldo final de\",Nombre,\"Es $\",(((Horas-50)*Salario)*3)+(Salario*50))\n",
        "  else:\n",
        "    print(\"Pago por horas extras dobles: $\",Salario*10)\n",
        "    print(\"Pago por horas extras triples: $\",Salario*(Horas-50))\n",
        "    print(\"Bono de $2000\")\n",
        "    print(\"El sueldo final de\",Nombre,\"Es $\",(((Horas-50)*Salario)*3)+(Salario*50)+2000)"
      ],
      "execution_count": 46,
      "outputs": [
        {
          "output_type": "stream",
          "text": [
            "Colocar el nombre del trabajador\n",
            "ER\n",
            "Ingresar tu salario: 65\n",
            "¿Cuantas horas trabajo esta semana?\n",
            "65\n",
            "Pago por horas extras dobles:  650.0\n",
            "Pago por oras extras triples:  975.0\n",
            "Bono de $2000\n",
            "El sueldo final de ER Es $ 8175.0\n"
          ],
          "name": "stdout"
        }
      ]
    },
    {
      "cell_type": "code",
      "metadata": {
        "colab": {
          "base_uri": "https://localhost:8080/"
        },
        "id": "EqfNWUgCmoTj",
        "outputId": "f1c85be6-272e-4835-cc40-379b4821178d"
      },
      "source": [
        "#Estructura FOR\n",
        "\n",
        "#Ejemplo 1\n",
        "\n",
        "for estaciones_año in[\"Primavera\",\"Verano\",\"Otoño\",\"Invierno\"]: #in palabra reservada, elemento a recorrer\n",
        "  print(estaciones_año)\n",
        "\n",
        "#Variables que suelen formar parte de FOR son i"
      ],
      "execution_count": 51,
      "outputs": [
        {
          "output_type": "stream",
          "text": [
            "Primavera\n",
            "Verano\n",
            "Otoño\n",
            "Invierno\n"
          ],
          "name": "stdout"
        }
      ]
    }
  ]
}