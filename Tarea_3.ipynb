{
  "nbformat": 4,
  "nbformat_minor": 0,
  "metadata": {
    "colab": {
      "name": "Tarea_3.ipynb",
      "provenance": [],
      "collapsed_sections": [],
      "authorship_tag": "ABX9TyNySwWIfZnjJnBordD5c0f5",
      "include_colab_link": true
    },
    "kernelspec": {
      "name": "python3",
      "display_name": "Python 3"
    }
  },
  "cells": [
    {
      "cell_type": "markdown",
      "metadata": {
        "id": "view-in-github",
        "colab_type": "text"
      },
      "source": [
        "<a href=\"https://colab.research.google.com/github/pepinadas/cyp_2021/blob/main/Tarea_3.ipynb\" target=\"_parent\"><img src=\"https://colab.research.google.com/assets/colab-badge.svg\" alt=\"Open In Colab\"/></a>"
      ]
    },
    {
      "cell_type": "code",
      "metadata": {
        "colab": {
          "base_uri": "https://localhost:8080/"
        },
        "id": "8a67hTA5dBHX",
        "outputId": "b25fb970-edfc-4b91-8bbf-da5832e5d97f"
      },
      "source": [
        "#Problema1.1\n",
        "#Problema que funcione de cajero, donde dando el precio del producto y el dinero dado, de el cambio\n",
        "Prepro = 0\n",
        "Pago = 0\n",
        "Devo = 0\n",
        "\n",
        "Prepro = float(input(\"Ingrese el costo de el producto:\"))\n",
        "Pago = float(input(\"Ingrese el dinero entregado por el cliente:\"))\n",
        "\n",
        "Devo = (Pago-Prepro)\n",
        "\n",
        "print(\"Cambio:\",Devo)"
      ],
      "execution_count": null,
      "outputs": [
        {
          "output_type": "stream",
          "text": [
            "Ingrese el costo de el producto:86.25\n",
            "Ingrese el dinero entregado por el cliente:100\n",
            "Cambio: 13.75\n"
          ],
          "name": "stdout"
        }
      ]
    },
    {
      "cell_type": "code",
      "metadata": {
        "colab": {
          "base_uri": "https://localhost:8080/"
        },
        "id": "26PBKM3jeO2K",
        "outputId": "cd4c4d04-13aa-4a13-eef0-49ea107e3375"
      },
      "source": [
        "#Problema1.2\n",
        "\n",
        "Base = 0\n",
        "Altu = 0\n",
        "\n",
        "Base = float(input(\"Colocar la base del triangulo\"))\n",
        "Altu = float(input(\"Colocar la baltura del triangulo\"))\n",
        "\n",
        "print(\"El area del triangulo es \",(Base*Altu)/2)"
      ],
      "execution_count": null,
      "outputs": [
        {
          "output_type": "stream",
          "text": [
            "Colocar la base del triangulo8.50\n",
            "Colocar la baltura del triangulo7.2\n",
            "El area del triangulo es  30.6\n"
          ],
          "name": "stdout"
        }
      ]
    },
    {
      "cell_type": "code",
      "metadata": {
        "id": "_Nk0DTOZfZMJ",
        "colab": {
          "base_uri": "https://localhost:8080/"
        },
        "outputId": "95768844-05bd-4833-b89c-fe9bba7591de"
      },
      "source": [
        "#Problema 1.3\n",
        "\n",
        "Pes  = 0\n",
        "Long = 0\n",
        "\n",
        "Nom = input(\"Coloca el nombre de el dinoaurio: \")\n",
        "Pes = float(input(\"Coloca el peso de el dinosario en libras: \"))\n",
        "Long = float(input(\"Colocar la longitud del dinosaurio en pies: \"))\n",
        "\n",
        "print(\"El nombre del dinosaurio es\",Nom,\"\\nEl peso en kilogramos es\",(Pes*1000))\n",
        "print(\"La longitud del dinosaurio en metros es\",(Long*0.3047))"
      ],
      "execution_count": null,
      "outputs": [
        {
          "output_type": "stream",
          "text": [
            "Coloca el nombre de el dinoaurio: Anacleto\n",
            "Coloca el peso de el dinosario en libras: 5\n",
            "Colocar la longitud del dinosaurio en pies: 30\n",
            "El nombre del dinosaurio es Anacleto \n",
            "El peso en kilogramos es 5000.0\n",
            "La longitud del dinosaurio en metros es 9.141\n"
          ],
          "name": "stdout"
        }
      ]
    },
    {
      "cell_type": "code",
      "metadata": {
        "colab": {
          "base_uri": "https://localhost:8080/"
        },
        "id": "VrqEwlk_QUrF",
        "outputId": "29c80f08-5390-4959-9884-97576ea4b5d8"
      },
      "source": [
        "#Problema 1.4\n",
        "\n",
        "Gal = 0\n",
        "\n",
        "Gal = float(input(\"Colocar los galones a surtir\"))\n",
        "\n",
        "print(\"Se van a surtir\",Gal*3.785,\"Litros y se cobrara $\",(Gal*3.785)*8.20)"
      ],
      "execution_count": null,
      "outputs": [
        {
          "output_type": "stream",
          "text": [
            "Colocar los galones a surtir10.38\n",
            "Se van a surtir 39.28830000000001 Litros y se cobrara $ 322.16406\n"
          ],
          "name": "stdout"
        }
      ]
    },
    {
      "cell_type": "code",
      "metadata": {
        "colab": {
          "base_uri": "https://localhost:8080/"
        },
        "id": "EVLx1sbkTl2I",
        "outputId": "ea82f4d3-04dc-4a61-bf47-ec5a18b906cf"
      },
      "source": [
        "#Problema 1.5\n",
        "\n",
        "Radio = 0\n",
        "Altu = 0\n",
        "\n",
        "Radio = float(input(\"Colocar el radio de el cilindro: \"))\n",
        "Altu = float(input(\"Colocar la altura del cilindro: \"))\n",
        "\n",
        "print(\"El volumen del cilindro es \",3.141592*(Radio**2)*Altu)\n",
        "print(\"El area del cilindro es \",2*3.141592*Radio*Altu)"
      ],
      "execution_count": null,
      "outputs": [
        {
          "output_type": "stream",
          "text": [
            "Colocar el radio de el cilindro: 45.22\n",
            "Colocar la altura del cilindro: 11.6\n",
            "El volumen del cilindro es  74519.32074597248\n",
            "El area del cilindro es  3295.856733568\n"
          ],
          "name": "stdout"
        }
      ]
    },
    {
      "cell_type": "code",
      "metadata": {
        "id": "0MidR2BiW-nq",
        "colab": {
          "base_uri": "https://localhost:8080/"
        },
        "outputId": "0423a7b0-45c5-482d-c5c1-a7876c046606"
      },
      "source": [
        "#Problema 1.6\n",
        "\n",
        "Dias = 0\n",
        "\n",
        "Dias = int(input(\"Colocar los dias que quieres calcular\"))\n",
        "\n",
        "print(\"En\",Dias,\"dias hay\",Dias*24*60*60,\"Segundos\")"
      ],
      "execution_count": 2,
      "outputs": [
        {
          "output_type": "stream",
          "text": [
            "Colocar los dias que quieres calcular7\n",
            "En 7 dias hay 604800 Segundos\n"
          ],
          "name": "stdout"
        }
      ]
    }
  ]
}