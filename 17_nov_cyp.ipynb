{
  "nbformat": 4,
  "nbformat_minor": 0,
  "metadata": {
    "colab": {
      "name": "17_nov_cyp.ipynb",
      "provenance": [],
      "authorship_tag": "ABX9TyNeMSopUhw+cYKpFahWtSFf",
      "include_colab_link": true
    },
    "kernelspec": {
      "name": "python3",
      "display_name": "Python 3"
    }
  },
  "cells": [
    {
      "cell_type": "markdown",
      "metadata": {
        "id": "view-in-github",
        "colab_type": "text"
      },
      "source": [
        "<a href=\"https://colab.research.google.com/github/pepinadas/cyp_2021/blob/main/17_nov_cyp.ipynb\" target=\"_parent\"><img src=\"https://colab.research.google.com/assets/colab-badge.svg\" alt=\"Open In Colab\"/></a>"
      ]
    },
    {
      "cell_type": "code",
      "metadata": {
        "colab": {
          "base_uri": "https://localhost:8080/"
        },
        "id": "_sposOKpSEZ2",
        "outputId": "a50c47c3-d98a-4f69-a958-055465f43954"
      },
      "source": [
        "#Ejemplo 1\n",
        "edad = 15\n",
        "estatura = 1.67\n",
        "a = 10\n",
        "b = 3\n",
        "\n",
        "c = 2 ** b + 2 + 3 + 4\n",
        "\n",
        "print(c)\n",
        "\n",
        "e = estatura * 2.0\n",
        "print(e)\n",
        "\n",
        "f= a / b # en python se hace el cálculo exacto\n",
        "print(f) # 3.333\n",
        "\n",
        "#tambien podemos forzar el calculo de enteros\n",
        "g=a//b\n",
        "print(\"g=\",g)\n",
        "\n",
        "h= a%b\n",
        "print(\"h=\",h)\n",
        "\n",
        "num = 10\n",
        "print(\"Es par num?\", (num % 2) == 0)"
      ],
      "execution_count": 9,
      "outputs": [
        {
          "output_type": "stream",
          "text": [
            "17\n",
            "3.34\n",
            "3.3333333333333335\n",
            "g= 3\n",
            "h= 1\n",
            "Es par num? True\n"
          ],
          "name": "stdout"
        }
      ]
    },
    {
      "cell_type": "code",
      "metadata": {
        "colab": {
          "base_uri": "https://localhost:8080/"
        },
        "id": "va9Djjt3W3qi",
        "outputId": "e562f750-b3d2-4550-b1e0-0271e0a9bfbf"
      },
      "source": [
        "#Ejemplo 2\n",
        "ecuacion = 9 + 7 * 8 - 36 /5\n",
        "print(ecuacion)\n",
        "\n",
        "ecuacion = (9 + 7) * 8 - 36 / 5 #al utilizar parentesis forzamos a realiza operaciones saltandonos la gerarquia\n",
        "print(ecuacion)\n",
        "\n",
        "ecuacion= 9 + 7 * (8-36) / 5\n",
        "print(ecuacion)"
      ],
      "execution_count": 12,
      "outputs": [
        {
          "output_type": "stream",
          "text": [
            "57.8\n",
            "120.8\n",
            "-30.200000000000003\n"
          ],
          "name": "stdout"
        }
      ]
    },
    {
      "cell_type": "code",
      "metadata": {
        "colab": {
          "base_uri": "https://localhost:8080/"
        },
        "id": "lqNmsRjgb47g",
        "outputId": "b9ef176f-8213-43ea-91ee-8c303ac6ec1f"
      },
      "source": [
        "#Operadores logicos\n",
        "\n",
        "x= 5\n",
        "y = 4\n",
        "\n",
        "valor = (x == y) # son iguales? --> Falso\n",
        "print(valor)\n",
        "\n",
        "valor = (x != y) #son diferentes?? --> Verdadero\n",
        "print(valor)\n",
        "\n",
        "valor = (x < y) # x es menor que y ?? False\n",
        "print(valor)\n",
        "\n",
        "valor = (x > y) # x es MAYOR que y ?? True\n",
        "print(valor)\n",
        "\n",
        "y= 5\n",
        "valor = (x <= y) # x es menor o igual que y ?? True\n",
        "print(valor)\n",
        "\n",
        "valor = (x >= y) # x es MAYOR o igual que y ?? True\n",
        "print(valor)"
      ],
      "execution_count": 19,
      "outputs": [
        {
          "output_type": "stream",
          "text": [
            "False\n",
            "True\n",
            "False\n",
            "True\n",
            "True\n",
            "True\n"
          ],
          "name": "stdout"
        }
      ]
    },
    {
      "cell_type": "code",
      "metadata": {
        "id": "DuEJwGZFfaSr"
      },
      "source": [
        "\n",
        "costo_chetos = 7.0\n",
        "tienda_abierta = False\n",
        "capital_en_bolsa = 10.0\n",
        "\n",
        "se_compra = (costo_chetos < capital_en_bolsa) and (tienda_abierta == True)"
      ],
      "execution_count": 23,
      "outputs": []
    }
  ]
}