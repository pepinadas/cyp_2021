{
  "nbformat": 4,
  "nbformat_minor": 0,
  "metadata": {
    "colab": {
      "name": "28_enero_2021.ipynb",
      "provenance": [],
      "collapsed_sections": [],
      "authorship_tag": "ABX9TyNj5tIdWexN7f4sx0dNzaGm",
      "include_colab_link": true
    },
    "kernelspec": {
      "name": "python3",
      "display_name": "Python 3"
    }
  },
  "cells": [
    {
      "cell_type": "markdown",
      "metadata": {
        "id": "view-in-github",
        "colab_type": "text"
      },
      "source": [
        "<a href=\"https://colab.research.google.com/github/pepinadas/cyp_2021/blob/main/28_enero_2021.ipynb\" target=\"_parent\"><img src=\"https://colab.research.google.com/assets/colab-badge.svg\" alt=\"Open In Colab\"/></a>"
      ]
    },
    {
      "cell_type": "markdown",
      "metadata": {
        "id": "NS7Zm5bUBgY_"
      },
      "source": [
        "# Tuplas\r\n",
        "\r\n",
        "- Tipo de dato líneal, estructura de datos\r\n",
        "- No mutable\r\n",
        "- Puede contener de 0 a n elementos \r\n",
        "- Se declara con '(' y ')'\r\n",
        "- No puedes agregar ni eliminar elementos.\r\n",
        "- Pueden ser anidadas.\r\n",
        "- Los argumentos a una función son enviadas como tuplas.\r\n"
      ]
    },
    {
      "cell_type": "code",
      "metadata": {
        "colab": {
          "base_uri": "https://localhost:8080/"
        },
        "id": "Pg8VSNKWCNll",
        "outputId": "fd3bd19a-166b-4624-92ee-58fcfbf68c19"
      },
      "source": [
        "frutas = ('Sandía', 'Melón', 'Limon', 'Mango')\r\n",
        "print(frutas)\r\n",
        "print(frutas[1:3:1])\r\n",
        "print(frutas.count ('Melón'))\r\n",
        "\r\n",
        "#Son inmutables\r\n",
        "#frutas[1] = \"Manzana\"\r\n",
        "\r\n",
        "#¿Para que se usan?\r\n",
        "conexion = ('132.248.12.12', 3306 , 'cyp_bd' , 'usr_test', '1234dios') #Base de datos\r\n",
        "print(f\"usuario:{conexion[3]} y passwd: {conexion[4]}\")"
      ],
      "execution_count": 18,
      "outputs": [
        {
          "output_type": "stream",
          "text": [
            "('Sandía', 'Melón', 'Limon', 'Mango')\n",
            "('Melón', 'Limon')\n",
            "1\n",
            "usuario:usr_test y passwd: 1234dios\n"
          ],
          "name": "stdout"
        }
      ]
    },
    {
      "cell_type": "code",
      "metadata": {
        "colab": {
          "base_uri": "https://localhost:8080/"
        },
        "id": "X-0CVAoiDX_5",
        "outputId": "7070f3c4-8f1d-4535-b97c-7ba361fdb2a2"
      },
      "source": [
        "print(dir(frutas))"
      ],
      "execution_count": 12,
      "outputs": [
        {
          "output_type": "stream",
          "text": [
            "['__add__', '__class__', '__contains__', '__delattr__', '__dir__', '__doc__', '__eq__', '__format__', '__ge__', '__getattribute__', '__getitem__', '__getnewargs__', '__gt__', '__hash__', '__init__', '__init_subclass__', '__iter__', '__le__', '__len__', '__lt__', '__mul__', '__ne__', '__new__', '__reduce__', '__reduce_ex__', '__repr__', '__rmul__', '__setattr__', '__sizeof__', '__str__', '__subclasshook__', 'count', 'index']\n"
          ],
          "name": "stdout"
        }
      ]
    },
    {
      "cell_type": "markdown",
      "metadata": {
        "id": "yUTBodLQFppe"
      },
      "source": [
        "# Diccionarios\r\n",
        "- Estructura de datos semi lineal.\r\n",
        "- Formada por pares, llave - valor.\r\n",
        "- Equivalentes al tipo de datos JSON, de JavaScript.\r\n",
        "- Utiliza organización por función de dispesión.\r\n",
        "- Se declara con los elementos '{' y '}'\r\n",
        "- El selector usa valores de tipo string (llave)\r\n",
        "- No se puede seleccionar por offset [1]\r\n",
        "- Son mutables"
      ]
    },
    {
      "cell_type": "code",
      "metadata": {
        "colab": {
          "base_uri": "https://localhost:8080/"
        },
        "id": "Lcc4w_rXHIZv",
        "outputId": "1fff3342-edc0-4ce1-836e-de07a04058b5"
      },
      "source": [
        "alumno = { 'nombre' : 'Juan Pérez' , 'edad' : 18 , 'grupo' : 1157 , 'fecha' : '28/01/21' , 'carrera' : 'Ingenieria en computación' , 'numero' : 5567786588}\r\n",
        "print( alumno )\r\n",
        "print( alumno ['nombre'] )\r\n",
        "print( alumno ['edad'] )\r\n",
        "print( alumno['carrera'] )"
      ],
      "execution_count": 28,
      "outputs": [
        {
          "output_type": "stream",
          "text": [
            "{'nombre': 'Juan Pérez', 'edad': 18, 'grupo': 1157, 'fecha': '28/01/21', 'carrera': 'Ingenieria en computación', 'numero': 5567786588}\n",
            "Juan Pérez\n",
            "18\n",
            "Ingenieria en computación\n"
          ],
          "name": "stdout"
        }
      ]
    },
    {
      "cell_type": "code",
      "metadata": {
        "colab": {
          "base_uri": "https://localhost:8080/"
        },
        "id": "pwfmVseCLvC6",
        "outputId": "c36f9c03-7418-4b5f-ea3b-151aa0ef4e9d"
      },
      "source": [
        "#Juan Miguel\r\n",
        "alumno = {'nombre':'Juan Pérez','edad':18,'altura':1.71,'estatus':'Aprobado','numeros':[555645902, 55326372]}\r\n",
        "print(alumno)\r\n",
        "print( alumno ['numeros'])\r\n",
        "print(\"Numero del alumno:\",alumno['numeros'][0])\r\n",
        "#Segundo telefono\r\n",
        "print(\"Numero del alumno:\",alumno['numeros'][1])"
      ],
      "execution_count": 51,
      "outputs": [
        {
          "output_type": "stream",
          "text": [
            "{'nombre': 'Juan Pérez', 'edad': 18, 'altura': 1.71, 'estatus': 'Aprobado', 'numeros': [555645902, 55326372]}\n",
            "[555645902, 55326372]\n",
            "Numero del alumno: 555645902\n",
            "Numero del alumno: 55326372\n"
          ],
          "name": "stdout"
        }
      ]
    },
    {
      "cell_type": "code",
      "metadata": {
        "colab": {
          "base_uri": "https://localhost:8080/"
        },
        "id": "Y-ylmmLLMqng",
        "outputId": "4835720a-f44e-4720-9340-f8292ef0a6f4"
      },
      "source": [
        "#Yael Aram\r\n",
        "materia = [\"Algebra\", \"Computadoras y Programacion\", \"Calculo Diferencial e Integral\", \"Introduccion a la Ingenieria\", \"Geometria Analitica\"]\r\n",
        "alumno = {\"ID\" : (123456789), \"Nombre\" : \"Yael\", \"Apellido\" : \"Castillo\", \"Edad\" : 20, \"Escuela\" : \"FES Aragon\", \"Materia\" : materia}\r\n",
        "for i in alumno:\r\n",
        "    print(f\"Clave: {i} - Valor: {alumno[i]}\")"
      ],
      "execution_count": 34,
      "outputs": [
        {
          "output_type": "stream",
          "text": [
            "Clave: ID - Valor: 123456789\n",
            "Clave: Nombre - Valor: Yael\n",
            "Clave: Apellido - Valor: Castillo\n",
            "Clave: Edad - Valor: 20\n",
            "Clave: Escuela - Valor: FES Aragon\n",
            "Clave: Materia - Valor: ['Algebra', 'Computadoras y Programacion', 'Calculo Diferencial e Integral', 'Introduccion a la Ingenieria', 'Geometria Analitica']\n"
          ],
          "name": "stdout"
        }
      ]
    },
    {
      "cell_type": "code",
      "metadata": {
        "colab": {
          "base_uri": "https://localhost:8080/"
        },
        "id": "JzdVGIpQM1NH",
        "outputId": "ee5f16ab-b445-48ed-edcb-a19b7528a654"
      },
      "source": [
        "# Kareli\r\n",
        "alumno = { 'nombre' : 'Juan Pérez', 'edad' : 18, 'Matricula': 312193, 'calificaciones' : {'Mate' : 8, 'ciencias' : 9, 'ingles' : 8}, 'aprovado' : True, 'dirección' : {\r\n",
        "    'calle' : 'Rancho seco', 'numero' : 's/n', 'colonia' : 'impulsora popular avicola', 'municipio' : 'Mi-nezota' , 'estado' :{ \r\n",
        "        'clave' :15 , 'nombre_clave' : 'Mex'\r\n",
        "    } } }\r\n",
        "print(alumno)\r\n",
        "print(alumno['nombre'])\r\n",
        "print(alumno['calificaciones'])\r\n",
        "#9 calicicaciones ciencias ??\r\n",
        "print(alumno['calificaciones']['ciencias'])\r\n",
        "# nombre, todo en mayúsculas\r\n",
        "print(alumno['nombre'].upper())\r\n",
        "print(alumno)\r\n",
        "print(\"-----------------------------\")\r\n",
        "alumno['seguro']= True\r\n",
        "print(alumno)\r\n",
        "print(\"--------------------------\")\r\n",
        "alumno['dirección']['cp'] = 57170\r\n",
        "print(alumno)"
      ],
      "execution_count": 59,
      "outputs": [
        {
          "output_type": "stream",
          "text": [
            "{'nombre': 'Juan Pérez', 'edad': 18, 'Matricula': 312193, 'calificaciones': {'Mate': 8, 'ciencias': 9, 'ingles': 8}, 'aprovado': True, 'dirección': {'calle': 'Rancho seco', 'numero': 's/n', 'colonia': 'impulsora popular avicola', 'municipio': 'Mi-nezota', 'estado': {'clave': 15, 'nombre_clave': 'Mex'}}}\n",
            "Juan Pérez\n",
            "{'Mate': 8, 'ciencias': 9, 'ingles': 8}\n",
            "9\n",
            "JUAN PÉREZ\n",
            "{'nombre': 'Juan Pérez', 'edad': 18, 'Matricula': 312193, 'calificaciones': {'Mate': 8, 'ciencias': 9, 'ingles': 8}, 'aprovado': True, 'dirección': {'calle': 'Rancho seco', 'numero': 's/n', 'colonia': 'impulsora popular avicola', 'municipio': 'Mi-nezota', 'estado': {'clave': 15, 'nombre_clave': 'Mex'}}}\n",
            "-----------------------------\n",
            "{'nombre': 'Juan Pérez', 'edad': 18, 'Matricula': 312193, 'calificaciones': {'Mate': 8, 'ciencias': 9, 'ingles': 8}, 'aprovado': True, 'dirección': {'calle': 'Rancho seco', 'numero': 's/n', 'colonia': 'impulsora popular avicola', 'municipio': 'Mi-nezota', 'estado': {'clave': 15, 'nombre_clave': 'Mex'}}, 'seguro': True}\n",
            "--------------------------\n",
            "{'nombre': 'Juan Pérez', 'edad': 18, 'Matricula': 312193, 'calificaciones': {'Mate': 8, 'ciencias': 9, 'ingles': 8}, 'aprovado': True, 'dirección': {'calle': 'Rancho seco', 'numero': 's/n', 'colonia': 'impulsora popular avicola', 'municipio': 'Mi-nezota', 'estado': {'clave': 15, 'nombre_clave': 'Mex'}, 'cp': 57170}, 'seguro': True}\n"
          ],
          "name": "stdout"
        }
      ]
    },
    {
      "cell_type": "code",
      "metadata": {
        "id": "iIv8bn16OMd9"
      },
      "source": [
        "cliente = {}"
      ],
      "execution_count": null,
      "outputs": []
    },
    {
      "cell_type": "code",
      "metadata": {
        "colab": {
          "base_uri": "https://localhost:8080/"
        },
        "id": "H4jx1UMxVJwa",
        "outputId": "3867fdd9-6fe5-4da0-d852-eba8ff72ce54"
      },
      "source": [
        "funciones = dir( dict )\r\n",
        "for funcion in funciones:\r\n",
        "  print(funcion)"
      ],
      "execution_count": 61,
      "outputs": [
        {
          "output_type": "stream",
          "text": [
            "__class__\n",
            "__contains__\n",
            "__delattr__\n",
            "__delitem__\n",
            "__dir__\n",
            "__doc__\n",
            "__eq__\n",
            "__format__\n",
            "__ge__\n",
            "__getattribute__\n",
            "__getitem__\n",
            "__gt__\n",
            "__hash__\n",
            "__init__\n",
            "__init_subclass__\n",
            "__iter__\n",
            "__le__\n",
            "__len__\n",
            "__lt__\n",
            "__ne__\n",
            "__new__\n",
            "__reduce__\n",
            "__reduce_ex__\n",
            "__repr__\n",
            "__setattr__\n",
            "__setitem__\n",
            "__sizeof__\n",
            "__str__\n",
            "__subclasshook__\n",
            "clear\n",
            "copy\n",
            "fromkeys\n",
            "get\n",
            "items\n",
            "keys\n",
            "pop\n",
            "popitem\n",
            "setdefault\n",
            "update\n",
            "values\n"
          ],
          "name": "stdout"
        }
      ]
    },
    {
      "cell_type": "markdown",
      "metadata": {
        "id": "0GIX_ccCVrhv"
      },
      "source": [
        "# Manipulación de los pares llave valor.\r\n",
        "para ello se emplean los métodos:\r\n",
        "- keys() te regresa una tupla con los estrings llave del diccionario.\r\n",
        "- values() Te regresa sólo los valores\r\n",
        "- items() Te regresa los pares "
      ]
    },
    {
      "cell_type": "code",
      "metadata": {
        "colab": {
          "base_uri": "https://localhost:8080/"
        },
        "id": "a5EPiKE6WExD",
        "outputId": "7419974d-06e0-40f7-974c-dcf8086799da"
      },
      "source": [
        "print(alumno)\r\n",
        "llaves = alumno.keys()\r\n",
        "print(llaves)\r\n",
        "for elem in llaves:\r\n",
        "  print( elem )\r\n",
        "  print( alumno[elem])\r\n",
        "#print(help(llaves))\r\n",
        "\r\n",
        "\r\n",
        "#manipular los valores\r\n",
        "valores = alumno.values()\r\n",
        "print(valores)\r\n",
        "print(\".-.-.-.-.-.-.-.-.-.-.-.-.-.-.-.-.-.-.-.-.-.\")\r\n",
        "for val in valores:\r\n",
        "  print(val)\r\n",
        "\r\n",
        "\r\n",
        "# manipular pares\r\n",
        "pares = alumno.items()\r\n",
        "print(\".-.-.-.-.-.-.-.-.-.-.-.-.-.-.-.-.-.-.-.-.-\")\r\n",
        "print(pares)\r\n",
        "for par in pares:\r\n",
        "  print(par)"
      ],
      "execution_count": 75,
      "outputs": [
        {
          "output_type": "stream",
          "text": [
            "{'nombre': 'Juan Pérez', 'edad': 18, 'Matricula': 312193, 'calificaciones': {'Mate': 8, 'ciencias': 9, 'ingles': 8}, 'aprovado': True, 'dirección': {'calle': 'Rancho seco', 'numero': 's/n', 'colonia': 'impulsora popular avicola', 'municipio': 'Mi-nezota', 'estado': {'clave': 15, 'nombre_clave': 'Mex'}, 'cp': 57170}, 'seguro': True}\n",
            "dict_keys(['nombre', 'edad', 'Matricula', 'calificaciones', 'aprovado', 'dirección', 'seguro'])\n",
            "nombre\n",
            "Juan Pérez\n",
            "edad\n",
            "18\n",
            "Matricula\n",
            "312193\n",
            "calificaciones\n",
            "{'Mate': 8, 'ciencias': 9, 'ingles': 8}\n",
            "aprovado\n",
            "True\n",
            "dirección\n",
            "{'calle': 'Rancho seco', 'numero': 's/n', 'colonia': 'impulsora popular avicola', 'municipio': 'Mi-nezota', 'estado': {'clave': 15, 'nombre_clave': 'Mex'}, 'cp': 57170}\n",
            "seguro\n",
            "True\n",
            "dict_values(['Juan Pérez', 18, 312193, {'Mate': 8, 'ciencias': 9, 'ingles': 8}, True, {'calle': 'Rancho seco', 'numero': 's/n', 'colonia': 'impulsora popular avicola', 'municipio': 'Mi-nezota', 'estado': {'clave': 15, 'nombre_clave': 'Mex'}, 'cp': 57170}, True])\n",
            ".-.-.-.-.-.-.-.-.-.-.-.-.-.-.-.-.-.-.-.-.-.\n",
            "Juan Pérez\n",
            "18\n",
            "312193\n",
            "{'Mate': 8, 'ciencias': 9, 'ingles': 8}\n",
            "True\n",
            "{'calle': 'Rancho seco', 'numero': 's/n', 'colonia': 'impulsora popular avicola', 'municipio': 'Mi-nezota', 'estado': {'clave': 15, 'nombre_clave': 'Mex'}, 'cp': 57170}\n",
            "True\n",
            ".-.-.-.-.-.-.-.-.-.-.-.-.-.-.-.-.-.-.-.-.-\n",
            "dict_items([('nombre', 'Juan Pérez'), ('edad', 18), ('Matricula', 312193), ('calificaciones', {'Mate': 8, 'ciencias': 9, 'ingles': 8}), ('aprovado', True), ('dirección', {'calle': 'Rancho seco', 'numero': 's/n', 'colonia': 'impulsora popular avicola', 'municipio': 'Mi-nezota', 'estado': {'clave': 15, 'nombre_clave': 'Mex'}, 'cp': 57170}), ('seguro', True)])\n",
            "('nombre', 'Juan Pérez')\n",
            "('edad', 18)\n",
            "('Matricula', 312193)\n",
            "('calificaciones', {'Mate': 8, 'ciencias': 9, 'ingles': 8})\n",
            "('aprovado', True)\n",
            "('dirección', {'calle': 'Rancho seco', 'numero': 's/n', 'colonia': 'impulsora popular avicola', 'municipio': 'Mi-nezota', 'estado': {'clave': 15, 'nombre_clave': 'Mex'}, 'cp': 57170})\n",
            "('seguro', True)\n"
          ],
          "name": "stdout"
        }
      ]
    },
    {
      "cell_type": "code",
      "metadata": {
        "colab": {
          "base_uri": "https://localhost:8080/"
        },
        "id": "qbrl8ZjDWTOJ",
        "outputId": "2f563bd6-4a4a-472f-a2c2-a9d1c820eba3"
      },
      "source": [
        "print(help(dict.keys))"
      ],
      "execution_count": 62,
      "outputs": [
        {
          "output_type": "stream",
          "text": [
            "Help on method_descriptor:\n",
            "\n",
            "keys(...)\n",
            "    D.keys() -> a set-like object providing a view on D's keys\n",
            "\n",
            "None\n"
          ],
          "name": "stdout"
        }
      ]
    }
  ]
}