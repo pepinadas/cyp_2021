{
  "nbformat": 4,
  "nbformat_minor": 0,
  "metadata": {
    "colab": {
      "name": "14_enero_cyp.ipynb",
      "provenance": [],
      "authorship_tag": "ABX9TyPapzNdxNK7te2WMYDU61Ts",
      "include_colab_link": true
    },
    "kernelspec": {
      "name": "python3",
      "display_name": "Python 3"
    }
  },
  "cells": [
    {
      "cell_type": "markdown",
      "metadata": {
        "id": "view-in-github",
        "colab_type": "text"
      },
      "source": [
        "<a href=\"https://colab.research.google.com/github/pepinadas/cyp_2021/blob/main/14_enero_cyp.ipynb\" target=\"_parent\"><img src=\"https://colab.research.google.com/assets/colab-badge.svg\" alt=\"Open In Colab\"/></a>"
      ]
    },
    {
      "cell_type": "markdown",
      "metadata": {
        "id": "Cgb72Uq05LGe"
      },
      "source": [
        "# Palabras reservadas en Python 3\r\n",
        "\r\n",
        "1. False\r\n",
        "1. None\r\n",
        "1. True\r\n",
        "1. and\r\n",
        "1. as\r\n",
        "1. assert\r\n",
        "1. break\r\n",
        "1. class\r\n",
        "1. continue\r\n",
        "1. def\r\n",
        "1. del\r\n",
        "1. elif\r\n",
        "1. else\r\n",
        "1. except\r\n",
        "1. finally\r\n",
        "1. for\r\n",
        "1. from\r\n",
        "1. global\r\n",
        "1. if\r\n",
        "1. import\r\n",
        "1. in\r\n",
        "1. is\r\n",
        "1. lambda\r\n",
        "1. nonlocal\r\n",
        "1. not\r\n",
        "1. or\r\n",
        "1. pass\r\n",
        "1. raise\r\n",
        "1. return\r\n",
        "1. try\r\n",
        "1. while\r\n",
        "1. with\r\n",
        "1. yield"
      ]
    },
    {
      "cell_type": "code",
      "metadata": {
        "colab": {
          "base_uri": "https://localhost:8080/"
        },
        "id": "h72w65Qj5YCg",
        "outputId": "f6aa3cba-02c0-49b2-ad9b-ed0bfe259df4"
      },
      "source": [
        "import keyword\r\n",
        "pr = keyword.kwlist\r\n",
        "print( len(pr))\r\n",
        "for palabra in pr:\r\n",
        "  print(\"1. \"+palabra )"
      ],
      "execution_count": 9,
      "outputs": [
        {
          "output_type": "stream",
          "text": [
            "33\n",
            "1.False\n",
            "1.None\n",
            "1.True\n",
            "1.and\n",
            "1.as\n",
            "1.assert\n",
            "1.break\n",
            "1.class\n",
            "1.continue\n",
            "1.def\n",
            "1.del\n",
            "1.elif\n",
            "1.else\n",
            "1.except\n",
            "1.finally\n",
            "1.for\n",
            "1.from\n",
            "1.global\n",
            "1.if\n",
            "1.import\n",
            "1.in\n",
            "1.is\n",
            "1.lambda\n",
            "1.nonlocal\n",
            "1.not\n",
            "1.or\n",
            "1.pass\n",
            "1.raise\n",
            "1.return\n",
            "1.try\n",
            "1.while\n",
            "1.with\n",
            "1.yield\n"
          ],
          "name": "stdout"
        }
      ]
    },
    {
      "cell_type": "markdown",
      "metadata": {
        "id": "j1mRV_wL652B"
      },
      "source": [
        "## Variable\r\n",
        "Es un espacio de memoria de la computadora para almacenar valores que cambian a lo largo de la ejecución del programa. Este espacio de memoria esta referenciado por un identificador.\r\n",
        "- No puede iniciar con número \r\n",
        "- No debe ser igual a alguna de las palabras reservadas.\r\n",
        "- Puede iniciar con _\r\n",
        "- Evitar nombres de variables largos\r\n",
        "- Evitar muy cortos, Ejemplo : x, y, i\r\n",
        "- Usar notación snake_case"
      ]
    },
    {
      "cell_type": "code",
      "metadata": {
        "colab": {
          "base_uri": "https://localhost:8080/",
          "height": 52
        },
        "id": "2DrhWgz57smI",
        "outputId": "94b27c72-4910-4723-9eb9-4ca0195960e6"
      },
      "source": [
        "_2edad = 12\r\n",
        "print(_2edad)\r\n",
        "\r\n",
        "\"\"\"\r\n",
        "No se puede usar una variable reservada como identificador de variable:\r\n",
        "\r\n",
        "for = 12\r\n",
        "print(for)\r\n",
        "\"\"\""
      ],
      "execution_count": 15,
      "outputs": [
        {
          "output_type": "stream",
          "text": [
            "12\n"
          ],
          "name": "stdout"
        },
        {
          "output_type": "execute_result",
          "data": {
            "application/vnd.google.colaboratory.intrinsic+json": {
              "type": "string"
            },
            "text/plain": [
              "'\\nNo se puede usar una variable reservada como identificador de variable:\\n\\nfor = 12\\nprint(for)\\n'"
            ]
          },
          "metadata": {
            "tags": []
          },
          "execution_count": 15
        }
      ]
    },
    {
      "cell_type": "code",
      "metadata": {
        "id": "MQ2Smnt78k-E"
      },
      "source": [
        "\"\"\"\r\n",
        "La notación snake_case consta de formar el identificador de variable\r\n",
        "separando las palabras del mismo con un guión bajo.\r\n",
        "\r\n",
        "Se recomienda que los identificadores se escriban en minuscula para las variables\r\n",
        "y en mayúsculas para las constantes.\r\n",
        "\r\n",
        "Es decir si tenemos una variable para los dias de la semana, se escribiría a\r\n",
        "\r\n",
        "dias_de_la_semana = 7\r\n",
        "dias_mes = 31\r\n",
        "limite_maximo = 100\r\n",
        "\r\n",
        "\r\n",
        "\"\"\""
      ],
      "execution_count": null,
      "outputs": []
    },
    {
      "cell_type": "markdown",
      "metadata": {
        "id": "6H1168dj97yH"
      },
      "source": [
        "#  Tipos de datos\r\n",
        "- Numéricos\r\n",
        "    - int 4 bytes ( 1, 2, 23454, etc. )\r\n",
        "    - float 4 bytes ( 1.14 , 3.1416 , 1.0) \r\n",
        "    - long 8 bytes (1 ,2,23454, etc)\r\n",
        "    - complex 3 + 2j (Raices negativas)\r\n",
        "- Boolean: True o False\r\n",
        "- String cadenas de caracteres (\"cad\" , 'cad'\r\n",
        " o \"\"\" cad \"\"\" )\r\n",
        "- listas ([1,2,3,4] , [a,b,1,2.3])\r\n",
        "- tuplas ( (edad,23) , (3,4) ) \r\n",
        "- conjuntos\r\n",
        "- diccionarios ( {\"nombre\":\"Juan\"} ) "
      ]
    },
    {
      "cell_type": "markdown",
      "metadata": {
        "id": "OkwcCgE_EApx"
      },
      "source": [
        "# tipo de dato String \r\n",
        "\r\n",
        "Este tipo de dato permite almacenar cadenas de caracteres, como por ejemplo:\r\n",
        "\r\n",
        "\r\n",
        "```\r\n",
        "nombre = 'Jesús'\r\n",
        "lugar_nacimiento = \"Mexico D.F. , Tacuba\"\r\n",
        "frase_favorita = \"\"\"\r\n",
        "El conocimiento\r\n",
        "me persigue,\r\n",
        "pero...\r\n",
        "yo soy más rápido!!!\r\n",
        ":)\r\n",
        "\"\"\"\r\n",
        "```"
      ]
    },
    {
      "cell_type": "code",
      "metadata": {
        "colab": {
          "base_uri": "https://localhost:8080/"
        },
        "id": "DzfZlHYbFMHe",
        "outputId": "42769f52-8e7d-4dc9-921f-9a0d1aa0b210"
      },
      "source": [
        "nombre = 'Jesús'\r\n",
        "lugar_nacimiento = \"Mexico D.F. , Tacuba\"\r\n",
        "frase_favorita = \"\"\"\r\n",
        "El conocimiento\r\n",
        "me persigue,\r\n",
        "pero...\r\n",
        "yo soy más rápido!!!\r\n",
        ":)\r\n",
        "\"\"\"\r\n",
        "\r\n",
        "print(nombre)\r\n",
        "print(lugar_nacimiento)\r\n",
        "print(frase_favorita)"
      ],
      "execution_count": 16,
      "outputs": [
        {
          "output_type": "stream",
          "text": [
            "Jesús\n",
            "Mexico D.F. , Tacuba\n",
            "\n",
            "El conocimiento\n",
            "me persigue,\n",
            "pero...\n",
            "yo soy más rápido!!!\n",
            ":)\n",
            "\n"
          ],
          "name": "stdout"
        }
      ]
    },
    {
      "cell_type": "markdown",
      "metadata": {
        "id": "jHZynX_UFq-d"
      },
      "source": [
        "# String como arreglo\r\n",
        "Un string en python es almacenado como el tipo de dato (estructura de datos) arreglo.\r\n",
        "\r\n",
        "Por ejemplo la declaración:\r\n",
        "```\r\n",
        "nombre = 'Jesús'\r\n",
        "```\r\n",
        "El elemento 'J' es almacenado en un arreglo en la posición 0.\r\n",
        "\r\n",
        "La e en la 1 y así sucesivamente.\r\n",
        "\r\n",
        "### Selector\r\n",
        "La notación para seleccionar un numero del arreglo es:\r\n",
        "```\r\n",
        "```\r\n",
        "Donde el valor interno debe ser un valor numérico entero."
      ]
    },
    {
      "cell_type": "code",
      "metadata": {
        "colab": {
          "base_uri": "https://localhost:8080/"
        },
        "id": "EofrYkk_GRWd",
        "outputId": "3e189421-1864-4d4b-e706-2c10e6f1177a"
      },
      "source": [
        "nombre = 'Jesús'\r\n",
        "print(nombre)\r\n",
        "print( nombre [0])\r\n",
        "print( nombre [3])"
      ],
      "execution_count": 17,
      "outputs": [
        {
          "output_type": "stream",
          "text": [
            "Jesús\n",
            "ú\n"
          ],
          "name": "stdout"
        }
      ]
    },
    {
      "cell_type": "markdown",
      "metadata": {
        "id": "Xh7WsJvPHQzQ"
      },
      "source": [
        "#Iterar sobre un String\r\n",
        "\r\n",
        "Se puede iterar sobre un String con un for de la forma:\r\n",
        "\r\n",
        "```\r\n",
        "for letra in range( len(nombre) ):\r\n",
        "    print( letra )\r\n",
        "```"
      ]
    },
    {
      "cell_type": "code",
      "metadata": {
        "colab": {
          "base_uri": "https://localhost:8080/"
        },
        "id": "VBA12MLOIanL",
        "outputId": "42c69fcc-c3f1-4d5f-a147-8da3e8807dfa"
      },
      "source": [
        "for indice in range( len(nombre) ):  # 0, 1 , 2 , 3 , 4 \r\n",
        "    print( indice , end = \" \")\r\n",
        "    print(nombre[indice])"
      ],
      "execution_count": 21,
      "outputs": [
        {
          "output_type": "stream",
          "text": [
            "0 J\n",
            "1 e\n",
            "2 s\n",
            "3 ú\n",
            "4 s\n"
          ],
          "name": "stdout"
        }
      ]
    },
    {
      "cell_type": "markdown",
      "metadata": {
        "id": "vRx_lIn3KdAg"
      },
      "source": [
        "##Función range(inicio, stop, incremento)\r\n",
        "\r\n",
        "El inicio es opcional y por defecto tiene el valor 0\r\n",
        "\r\n",
        "El incremento tambien es opcional y por defecto es 1"
      ]
    },
    {
      "cell_type": "code",
      "metadata": {
        "colab": {
          "base_uri": "https://localhost:8080/"
        },
        "id": "FIsp2zITJz-g",
        "outputId": "3a77c777-ad0d-40c5-9f75-3ec818654337"
      },
      "source": [
        "for indice in range(1 , len(nombre) , 1):\r\n",
        "    print(nombre[indice])"
      ],
      "execution_count": 22,
      "outputs": [
        {
          "output_type": "stream",
          "text": [
            "J\n",
            "e\n",
            "s\n",
            "ú\n",
            "s\n"
          ],
          "name": "stdout"
        }
      ]
    },
    {
      "cell_type": "code",
      "metadata": {
        "colab": {
          "base_uri": "https://localhost:8080/"
        },
        "id": "W7jNxZ-DLXXP",
        "outputId": "7caaea84-c1b1-4ad1-b568-bb5f48736b79"
      },
      "source": [
        "for indice in range(4 , -1 , -1):\r\n",
        "    print(nombre[indice])"
      ],
      "execution_count": 24,
      "outputs": [
        {
          "output_type": "stream",
          "text": [
            "s\n",
            "ú\n",
            "s\n",
            "e\n",
            "J\n"
          ],
          "name": "stdout"
        }
      ]
    },
    {
      "cell_type": "markdown",
      "metadata": {
        "id": "WeXkzY9eMKZL"
      },
      "source": [
        "# String e indexado negativo\r\n",
        "En python 3 se agrega una nueva característica a los arreglos de las cadenas de caracteres, esta consta de la capacidad de indexar de forma negativa.\r\n",
        "\r\n",
        "La lógica es la siguiente.\r\n",
        "\r\n",
        "El último elemento se le considera como índice (ALTERNATIVO) -1, con lo cual se podria referenciar el final de la cadena sin la necesidad de saber el tamaño de la misma.\r\n",
        "\r\n",
        "```\r\n",
        "nombre = 'Jesús'\r\n",
        "```\r\n",
        "indice normal 0  1  2  3  4\r\n",
        "\r\n",
        "              J  e  s  ú  s\r\n",
        "\r\n",
        "indice alt.  -5 -4 -3 -2 -1"
      ]
    },
    {
      "cell_type": "code",
      "metadata": {
        "colab": {
          "base_uri": "https://localhost:8080/"
        },
        "id": "xm5j-BcGMim9",
        "outputId": "ca6e3690-6165-4754-a91e-05a1e05a65ee"
      },
      "source": [
        "nombre = 'Angel'\r\n",
        "print( nombre[4] )\r\n",
        "print( nombre[-1] )\r\n",
        "print(\"\")\r\n",
        "for indice_alter in range(-1, -6 , -1):\r\n",
        "    print(nombre[indice_alter])"
      ],
      "execution_count": 27,
      "outputs": [
        {
          "output_type": "stream",
          "text": [
            "l\n",
            "l\n",
            "\n",
            "l\n",
            "e\n",
            "g\n",
            "n\n",
            "A\n"
          ],
          "name": "stdout"
        }
      ]
    },
    {
      "cell_type": "markdown",
      "metadata": {
        "id": "kA-OfortQWx9"
      },
      "source": [
        "#Slicing de cadenas de caracteres.\r\n",
        "\r\n",
        "Esta característica permite sacar secciones de una cadena con la siguiente sintaxis:\r\n",
        "```\r\n",
        "[inicio : stop : incremento]\r\n",
        "```\r\n",
        "donde inicio e incremento son opcionales y también soportan indexado alternativo (negativos)"
      ]
    },
    {
      "cell_type": "code",
      "metadata": {
        "colab": {
          "base_uri": "https://localhost:8080/"
        },
        "id": "YUaILHI7QaoF",
        "outputId": "b9a1b3ef-67dd-4eca-ec75-301d53b6403c"
      },
      "source": [
        "facultad = \"Facultad de Estudios Superiores Aragón (La mejor)\"\r\n",
        "\r\n",
        "print(facultad)\r\n",
        "for Estudios in range(12, 20 , 1):\r\n",
        "    print(facultad[Estudios], end = \"\")\r\n",
        "\r\n",
        "# hacer esto mismo con la caracteristica Slicing se lográ asi:\r\n",
        "\r\n",
        "print(\"\\nCon Slicing\")\r\n",
        "print(facultad[12:20:1])\r\n",
        "\r\n",
        "#palabra 'de' con slicing\r\n",
        "\r\n",
        "print(facultad[9:11:1])\r\n",
        "\r\n",
        "#palabra \"(La mejor)\" con slicing\r\n",
        "\r\n",
        "for Estudios in range(-1, -10 , 1):\r\n",
        "    print(facultad[Estudios])"
      ],
      "execution_count": 40,
      "outputs": [
        {
          "output_type": "stream",
          "text": [
            "Facultad de Estudios Superiores Aragón (La mejor)\n",
            "Estudios\n",
            "Con Slicing\n",
            "Estudios\n",
            "de\n"
          ],
          "name": "stdout"
        }
      ]
    }
  ]
}