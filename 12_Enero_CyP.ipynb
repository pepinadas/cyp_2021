{
  "nbformat": 4,
  "nbformat_minor": 0,
  "metadata": {
    "colab": {
      "name": "12_Enero_CyP.ipynb",
      "provenance": [],
      "collapsed_sections": [],
      "authorship_tag": "ABX9TyMOZRW6eIwBFYJSA+j2rcJn",
      "include_colab_link": true
    },
    "kernelspec": {
      "name": "python3",
      "display_name": "Python 3"
    }
  },
  "cells": [
    {
      "cell_type": "markdown",
      "metadata": {
        "id": "view-in-github",
        "colab_type": "text"
      },
      "source": [
        "<a href=\"https://colab.research.google.com/github/pepinadas/cyp_2021/blob/main/12_Enero_CyP.ipynb\" target=\"_parent\"><img src=\"https://colab.research.google.com/assets/colab-badge.svg\" alt=\"Open In Colab\"/></a>"
      ]
    },
    {
      "cell_type": "markdown",
      "metadata": {
        "id": "N3BbKk4TpS4n"
      },
      "source": [
        "# Introducción a Python\r\n",
        "- Creado en los 90's por Guido Van R.\r\n",
        "- En el 2000 python mejora y tiene nuevas caracteristicas.\r\n",
        "- En el 2020 deja de ser la version oficial python 2.7 y solo se le dara soporte a python 3 en adelante.\r\n",
        "\r\n",
        "## Caracteristicas de Python\r\n",
        "1. Lenguaje de propósito general.\r\n",
        "2. Interpretado y no-compilado.\r\n",
        "3. Tipos de datos dinámicos. (numericos, cadena, bool, entre otros)\r\n",
        "4. Multiplataforma.\r\n",
        "5. Lenguaje multi-paradigma.(Imperativa, POO y funcional)\r\n",
        "6. Codigo es estructurado por indentación.\r\n",
        "\r\n",
        "```\r\n",
        "if a > 10 :\r\n",
        "    print(\"Hola\")\r\n",
        "print(\"Hola dos\")\r\n",
        "```\r\n",
        "\r\n",
        "##Principios Zen de Python\r\n",
        "\r\n",
        "son las características que guian el diseño del lenguaje de programación Python.\r\n",
        "\r\n"
      ]
    },
    {
      "cell_type": "code",
      "metadata": {
        "colab": {
          "base_uri": "https://localhost:8080/"
        },
        "id": "UErXMnl7un1B",
        "outputId": "e0ba4d0d-ea19-49ad-f05e-1940595aeb15"
      },
      "source": [
        "# primer programa en Python 3\r\n",
        "\r\n",
        "nombre = \"José\"\r\n",
        "edad = 18\r\n",
        "print(\"Hola\",nombre,edad)"
      ],
      "execution_count": 3,
      "outputs": [
        {
          "output_type": "stream",
          "text": [
            "HolaJosé 18\n"
          ],
          "name": "stdout"
        }
      ]
    },
    {
      "cell_type": "markdown",
      "metadata": {
        "id": "hsSoaSRcvpWS"
      },
      "source": [
        "#La función print()\r\n",
        "\r\n",
        "Es una de las funciones mas empleadas en programación y busca enviar datos a la salida estandar(monitor)\r\n",
        "\r\n",
        "###Formas de uso\r\n",
        "1. Con comas \r\n",
        "1. Con signos +\r\n",
        "1. .format()\r\n",
        "1. el operador f\"    \"\r\n",
        "\r\n",
        "#### Con comas\r\n",
        "Concatena los argumentos enviados a print y les agrega un espacio.\r\n",
        "\r\n",
        "#### Con signos +\r\n",
        "Concatena los valores sin y sin hacer conversión de tipos.\r\n",
        "\r\n",
        "#### Con la funcion format()\r\n",
        "Permite darle forma a la salida de la impresión de variables. Emplea la función format de el tipo de dato String.\r\n",
        "```\r\n",
        "\"cadena {} a {} forma{}tear \".format(v1,v2,vn)\"\r\n",
        "```\r\n",
        "Emplea como comodines para sustituir valores los signos de {}.\r\n",
        "\r\n",
        "#### Con el operador f\"\"\r\n",
        "\r\n",
        "Es una variante de la forma anterior pero enmascarando la función format().\r\n",
        "```\r\n",
        "print(f\"{var}agjhoasfaojs{var2}asdfii{varn}\")\r\n",
        "```"
      ]
    },
    {
      "cell_type": "code",
      "metadata": {
        "colab": {
          "base_uri": "https://localhost:8080/"
        },
        "id": "QibYFccAw3KZ",
        "outputId": "224376ff-c3e9-4bc2-abc1-e0eda3b25595"
      },
      "source": [
        "print(\"Hola\",nombre,edad)\r\n",
        "print(\"Hola \"+ nombre + str(edad))\r\n",
        "#Nombre:José, con una edad de : 18 años.\r\n",
        "print(\"Nombre:\",nombre, \"con una edad de:\", edad , \"años\")\r\n",
        "print(\"Nombre: \"+ nombre + \" con una edad de: \"+ str(edad) + \" años\")\r\n",
        "#Con format()\r\n",
        "print(\"Nombre: {1} con una edad de: {0} años\".format(nombre,edad))\r\n",
        "#Con el operador f\"\"\r\n",
        "print(f\"Nombre: {nombre} con una edad de: {edad} años\")"
      ],
      "execution_count": 19,
      "outputs": [
        {
          "output_type": "stream",
          "text": [
            "Hola José 18\n",
            "Hola José18\n",
            "Nombre: José con una edad de: 18 años\n",
            "Nombre: José con una edad de: 18 años\n",
            "Nombre: 18 con una edad de: José años\n",
            "Nombre: José con una edad de: 18 años\n"
          ],
          "name": "stdout"
        }
      ]
    },
    {
      "cell_type": "markdown",
      "metadata": {
        "id": "lyd6Cpss2J2T"
      },
      "source": [
        "#Funcion print() y los caracteres de escape.\r\n",
        "- \\n salto de línea\r\n",
        "- \\t tabulador\r\n",
        "- \\\\ imprimir la diagonal \\\r\n",
        "- \\' y \\\" \r\n",
        "- \\uxxxx\r\n",
        "- \\uxxxxxxxx\r\n",
        "-\r\n"
      ]
    },
    {
      "cell_type": "code",
      "metadata": {
        "colab": {
          "base_uri": "https://localhost:8080/"
        },
        "id": "H69GxP6F26HQ",
        "outputId": "e3cfaeeb-7b75-447e-d0f6-bf23820e976f"
      },
      "source": [
        "print('\"')\r\n",
        "print(\"\\\"\")\r\n",
        "print(\"Nombre: José \\nCon una edad de: 18 años\")\r\n",
        "#Caracteres unicode\r\n",
        "\r\n",
        "print(\"Hola \\u2661\")"
      ],
      "execution_count": 34,
      "outputs": [
        {
          "output_type": "stream",
          "text": [
            "\"\n",
            "\"\n",
            "Nombre: José \n",
            "Con una edad de: 18 años\n",
            "Hola ♡\n"
          ],
          "name": "stdout"
        }
      ]
    },
    {
      "cell_type": "markdown",
      "metadata": {
        "id": "6OuwYCUD8JbE"
      },
      "source": [
        "## print y salto de línea en el argumento.\r\n",
        "\r\n",
        "print([lista de variables], end=\"\\n\")"
      ]
    },
    {
      "cell_type": "code",
      "metadata": {
        "colab": {
          "base_uri": "https://localhost:8080/"
        },
        "id": "FkKihrAH8VN_",
        "outputId": "efad033c-d79a-4aa5-d147-2ce63c0f6de1"
      },
      "source": [
        "print(\"Hola \",end=\"\\n-----\\n\")\r\n",
        "print(\"Mundo \",end=\"\\n+++++\\n\")\r\n",
        "print(\"Fin\",end=\"\\n\\u2661\\u2661\\u2661\\u2661\\n\")"
      ],
      "execution_count": 40,
      "outputs": [
        {
          "output_type": "stream",
          "text": [
            "Hola \n",
            "-----\n",
            "Mundo \n",
            "+++++\n",
            "Fin\n",
            "♡♡♡♡\n"
          ],
          "name": "stdout"
        }
      ]
    },
    {
      "cell_type": "markdown",
      "metadata": {
        "id": "MBtMqWGg9eJx"
      },
      "source": [
        "# Comentarios en Python.\r\n",
        "Un comentario en programación, es un texto especial que es ignorado por el interprete o compilador (segun sea el caso) y es empleado para que el programador documente sus algoritmos.\r\n",
        "\r\n",
        "Existen de dos tipos: De línea simple y de múltiple linea.\r\n",
        "\r\n",
        "En python. \r\n",
        "- linea simple emplea #\r\n",
        "```\r\n",
        "#Comentario de linea simple\r\n",
        "```\r\n",
        "- linea multiple\r\n",
        "```\r\n",
        "\"\"\"\r\n",
        "esto es un comentario de\r\n",
        "linea\r\n",
        "multiple\r\n",
        "\"\"\"\r\n",
        "```\r\n"
      ]
    },
    {
      "cell_type": "code",
      "metadata": {
        "colab": {
          "base_uri": "https://localhost:8080/"
        },
        "id": "FbttwjcW-gyK",
        "outputId": "a15dba63-df24-4809-c66d-41fa7002bdeb"
      },
      "source": [
        "print(\"Hola\")\r\n",
        "# print(\"hello there\")\r\n",
        "#Cualquier cosa\r\n",
        "print(\"Hola\")  #Linea de codigo valida\r\n",
        "print(\"Hola\")\r\n",
        "print(\"Hola\")  #Esta linea imprime \"Hola\" :3\r\n",
        "print(\"Hola\")\r\n",
        "\r\n",
        "\"\"\"\r\n",
        "Esto es\r\n",
        "un comentario de\r\n",
        "multiple linea. Ideal para cuando se desea explicar algo a fondoque requiera\r\n",
        "mayor detalle.\r\n",
        "\"\"\"\r\n",
        "print(\"Hola\")\r\n",
        "print(\"Hola\")\r\n",
        "print(\"Hola\")\r\n",
        "print(\"Hola\")\r\n",
        "print(\"Hola\")"
      ],
      "execution_count": 41,
      "outputs": [
        {
          "output_type": "stream",
          "text": [
            "Hola\n",
            "Hola\n",
            "Hola\n",
            "Hola\n",
            "Hola\n",
            "Hola\n",
            "Hola\n",
            "Hola\n",
            "Hola\n",
            "Hola\n"
          ],
          "name": "stdout"
        }
      ]
    }
  ]
}