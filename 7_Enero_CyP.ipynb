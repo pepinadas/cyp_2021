{
  "nbformat": 4,
  "nbformat_minor": 0,
  "metadata": {
    "colab": {
      "name": "7_Enero_CyP.ipynb",
      "provenance": [],
      "collapsed_sections": [],
      "authorship_tag": "ABX9TyMG5S3TnVlDSgLP1eYIo6hC",
      "include_colab_link": true
    },
    "kernelspec": {
      "name": "python3",
      "display_name": "Python 3"
    }
  },
  "cells": [
    {
      "cell_type": "markdown",
      "metadata": {
        "id": "view-in-github",
        "colab_type": "text"
      },
      "source": [
        "<a href=\"https://colab.research.google.com/github/pepinadas/cyp_2021/blob/main/7_Enero_CyP.ipynb\" target=\"_parent\"><img src=\"https://colab.research.google.com/assets/colab-badge.svg\" alt=\"Open In Colab\"/></a>"
      ]
    },
    {
      "cell_type": "code",
      "metadata": {
        "id": "KPNe_zdA4ph5"
      },
      "source": [
        "#Ejemplo 4.6\r\n"
      ],
      "execution_count": null,
      "outputs": []
    },
    {
      "cell_type": "code",
      "metadata": {
        "colab": {
          "base_uri": "https://localhost:8080/"
        },
        "id": "LjpwxE3BBYmA",
        "outputId": "751ab5fc-51ec-4e45-d0e8-c63906285796"
      },
      "source": [
        "Ren = 3\r\n",
        "Col = 5\r\n",
        "Vec = [[0 for x in range(Col)] for x in range(Ren)]\r\n",
        "print(Vec)\r\n",
        "Vec[1][2] = 15\r\n",
        "print(Vec)\r\n",
        "\r\n",
        "print(\"Automatizar el recorrido del arreglo\")\r\n",
        "for i in range(Ren):\r\n",
        "  for j in range(Col):\r\n",
        "    print(f\"{i},{j} = {Vec[i][j]}\")"
      ],
      "execution_count": 5,
      "outputs": [
        {
          "output_type": "stream",
          "text": [
            "[[0, 0, 0, 0, 0], [0, 0, 0, 0, 0], [0, 0, 0, 0, 0]]\n",
            "[[0, 0, 0, 0, 0], [0, 0, 15, 0, 0], [0, 0, 0, 0, 0]]\n",
            "Automatizar el recorrido del arreglo\n",
            "0,0 = 0\n",
            "0,1 = 0\n",
            "0,2 = 0\n",
            "0,3 = 0\n",
            "0,4 = 0\n",
            "1,0 = 0\n",
            "1,1 = 0\n",
            "1,2 = 15\n",
            "1,3 = 0\n",
            "1,4 = 0\n",
            "2,0 = 0\n",
            "2,1 = 0\n",
            "2,2 = 0\n",
            "2,3 = 0\n",
            "2,4 = 0\n"
          ],
          "name": "stdout"
        }
      ]
    },
    {
      "cell_type": "code",
      "metadata": {
        "colab": {
          "base_uri": "https://localhost:8080/"
        },
        "id": "VLgQ1ijLEFF1",
        "outputId": "63666934-7d62-486c-d71e-ec825f999b62"
      },
      "source": [
        "estados= int (input(\"Cuantos estados son?: \"))\r\n",
        "lluvias_men_est= [ [0 for x in range(12)] for x in range(estados)]\r\n",
        "\r\n",
        "for i in range(estados):\r\n",
        "  for j in range(12):\r\n",
        "    mensaje = \"dame el valor del estado\", str(i+1) +\" del mes \"+str(j+1),\":\"\r\n",
        "    aux = int(input(mensaje))\r\n",
        "    lluvias_men_est[i][j] = aux\r\n",
        "\r\n",
        "print(lluvias_men_est)\r\n",
        "\r\n",
        "print(\"Promedio de lluvias en los estados:\")\r\n",
        "Suma = 0\r\n",
        "for i in range(estados):\r\n",
        "  Suma = 0\r\n",
        "  for j in range(12):\r\n",
        "    Suma = Suma + lluvias_men_est[i][j]\r\n",
        "  print(f\"El promedio de lluvias en el estado {i+1} es {Suma/12}\")"
      ],
      "execution_count": 13,
      "outputs": [
        {
          "output_type": "stream",
          "text": [
            "Cuantos estados son?: 1\n",
            "dame el valor del estado,1 del mes 1,:10\n",
            "dame el valor del estado,1 del mes 2,:20\n",
            "dame el valor del estado,1 del mes 3,:30\n",
            "dame el valor del estado,1 del mes 4,:40\n",
            "dame el valor del estado,1 del mes 5,:50\n",
            "dame el valor del estado,1 del mes 6,:60\n",
            "dame el valor del estado,1 del mes 7,:70\n",
            "dame el valor del estado,1 del mes 8,:80\n",
            "dame el valor del estado,1 del mes 9,:90\n",
            "dame el valor del estado,1 del mes 10,:100\n",
            "dame el valor del estado,1 del mes 11,:10\n",
            "dame el valor del estado,1 del mes 12,:10\n",
            "[[10, 20, 30, 40, 50, 60, 70, 80, 90, 100, 10, 10]]\n",
            "Promedio de lluvias en los estados:\n",
            "El promedio de lluvias en el estado 1 es 47.5\n"
          ],
          "name": "stdout"
        }
      ]
    }
  ]
}