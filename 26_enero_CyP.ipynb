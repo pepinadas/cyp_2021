{
  "nbformat": 4,
  "nbformat_minor": 0,
  "metadata": {
    "colab": {
      "name": "26_enero_CyP.ipynb",
      "provenance": [],
      "collapsed_sections": [],
      "authorship_tag": "ABX9TyNG9f5oXtwQII7tlC+FjA3Q",
      "include_colab_link": true
    },
    "kernelspec": {
      "name": "python3",
      "display_name": "Python 3"
    }
  },
  "cells": [
    {
      "cell_type": "markdown",
      "metadata": {
        "id": "view-in-github",
        "colab_type": "text"
      },
      "source": [
        "<a href=\"https://colab.research.google.com/github/pepinadas/cyp_2021/blob/main/26_enero_CyP.ipynb\" target=\"_parent\"><img src=\"https://colab.research.google.com/assets/colab-badge.svg\" alt=\"Open In Colab\"/></a>"
      ]
    },
    {
      "cell_type": "markdown",
      "metadata": {
        "id": "NeXRJ5tQtH1c"
      },
      "source": [
        "# Listas de Python 3\r\n",
        "1. Es una estructura de datos lineal de 0 o n elementos.\r\n",
        "1. \"Equivalente\" a los arreglos.\r\n",
        "1. Pueden ser de diferente tipo de dato. [1,2,32,12] , [1, True , 2.34, \"Hola\"]\r\n",
        "1. Pueden ser anidados, listas de listas. [\"Melón\", [\"manzana roja\" , \"Manzana amarilla\" ]] \r\n",
        "1. Su selector es de la forma: [ int ] \r\n",
        "1. Son mutables.\r\n"
      ]
    },
    {
      "cell_type": "code",
      "metadata": {
        "colab": {
          "base_uri": "https://localhost:8080/"
        },
        "id": "DVp7FFBnvEOp",
        "outputId": "f8aebb68-afc9-4984-e7ce-370498d61af3"
      },
      "source": [
        "# ejemplos\r\n",
        "numeros = [4,2,45,7,83,3]\r\n",
        "print(numeros)\r\n",
        "print(numeros[2])\r\n",
        "\r\n",
        "# una lista de 0 elementos\r\n",
        "colores=[] # list()\r\n",
        "type(colores) #averiguar de que tipo de dato es una variable con la función type\r\n"
      ],
      "execution_count": 2,
      "outputs": [
        {
          "output_type": "stream",
          "text": [
            "[4, 2, 45, 7, 83, 3]\n",
            "45\n"
          ],
          "name": "stdout"
        },
        {
          "output_type": "execute_result",
          "data": {
            "text/plain": [
              "list"
            ]
          },
          "metadata": {
            "tags": []
          },
          "execution_count": 2
        }
      ]
    },
    {
      "cell_type": "code",
      "metadata": {
        "colab": {
          "base_uri": "https://localhost:8080/"
        },
        "id": "i2BCVb5awP9A",
        "outputId": "57dc624d-aae2-464c-8f91-9e75b432ab1f"
      },
      "source": [
        "#Pueden de diferente tipo de datos\r\n",
        "\r\n",
        "mi_lista = [1,2,3,\"José\",False,1.76, [5567786588, 5575950496, 5532816094]]\r\n",
        "print(mi_lista)\r\n",
        "print(mi_lista[6][1])\r\n",
        "print(mi_lista[3][3])\r\n",
        "print(mi_lista[3][3::])\r\n",
        "print(mi_lista[3][-1::1])"
      ],
      "execution_count": 21,
      "outputs": [
        {
          "output_type": "stream",
          "text": [
            "[1, 2, 3, 'José', False, 1.76, [5567786588, 5575950496, 5532816094]]\n",
            "5575950496\n",
            "é\n",
            "é\n",
            "é\n"
          ],
          "name": "stdout"
        }
      ]
    },
    {
      "cell_type": "code",
      "metadata": {
        "colab": {
          "base_uri": "https://localhost:8080/"
        },
        "id": "lwnVYbS60S4t",
        "outputId": "10cb4b7b-66da-49ba-838f-d6eebd2bd87e"
      },
      "source": [
        "frutas = [\"melon\", \"sandia\", \"kiwi\", \"aguacate\", \"mango\", \"platano\"]\r\n",
        "print(frutas)\r\n",
        "frutas[0] = \"Melón\"\r\n",
        "print(frutas)\r\n",
        "#frutas[1][0] = 'S'\r\n",
        "frutas[1] = frutas[1].capitalize()\r\n",
        "print(frutas)"
      ],
      "execution_count": 32,
      "outputs": [
        {
          "output_type": "stream",
          "text": [
            "['melon', 'sandia', 'kiwi', 'aguacate', 'mango', 'platano']\n",
            "['Melón', 'sandia', 'kiwi', 'aguacate', 'mango', 'platano']\n",
            "['Melón', 'Sandia', 'kiwi', 'aguacate', 'mango', 'platano']\n"
          ],
          "name": "stdout"
        }
      ]
    },
    {
      "cell_type": "code",
      "metadata": {
        "colab": {
          "base_uri": "https://localhost:8080/"
        },
        "id": "HBRVBzWa2LH5",
        "outputId": "15e8fcd1-3857-44fb-f588-c6c9263dd3e1"
      },
      "source": [
        "# las listas son clases por lo tanto, tienen métodos.\r\n",
        "#nejemplo: Append, agrega un elemento al final\r\n",
        "frutas = [\"melon\", \"sandia\", \"kiwi\", \"aguacate\", \"mango\", \"platano\"]\r\n",
        "frutas.append(\"Fresa\")\r\n",
        "print(frutas)\r\n",
        "\r\n",
        "print(\"Ejemplo de copias\")\r\n",
        "otras_frutas = frutas.copy()\r\n",
        "print(frutas)\r\n",
        "print(otras_frutas)\r\n",
        "otras_frutas[0] = \"Chico zapote\"\r\n",
        "print(\"---------------\")\r\n",
        "print(frutas)\r\n",
        "\r\n",
        "print(\"\\nEjemplo de extend\")\r\n",
        "\r\n",
        "colores = [\"rojo\", \"verde\", \"azul\"]\r\n",
        "frutas.extend(colores)\r\n",
        "print(colores)\r\n",
        "frutas.extend(colores)\r\n",
        "print(frutas)\r\n",
        "\r\n",
        "print(\"\\nEjemplo insert\")\r\n",
        "print(f\"tamaño de la lista = {len(frutas)}\")\r\n",
        "frutas.insert(3,\"Limón\")\r\n",
        "print(f\"tamaño de la lista = {len(frutas)}\")\r\n",
        "print(frutas)\r\n",
        "\r\n",
        "print(\"\\nEjemplo remove, eliminar el kiwi\")\r\n",
        "frutas.remove(\"kiwi\")\r\n",
        "print(frutas)\r\n",
        "\r\n",
        "print(\"\\nEjemplo con operador del\")\r\n",
        "del frutas[2] #Operador de listas\r\n",
        "print(frutas)\r\n",
        "\r\n",
        "print(\"----\")\r\n",
        "frutas.clear()\r\n",
        "print(frutas)\r\n",
        "\r\n"
      ],
      "execution_count": 54,
      "outputs": [
        {
          "output_type": "stream",
          "text": [
            "['melon', 'sandia', 'kiwi', 'aguacate', 'mango', 'platano', 'Fresa']\n",
            "Ejemplo de copias\n",
            "['melon', 'sandia', 'kiwi', 'aguacate', 'mango', 'platano', 'Fresa']\n",
            "['melon', 'sandia', 'kiwi', 'aguacate', 'mango', 'platano', 'Fresa']\n",
            "---------------\n",
            "['melon', 'sandia', 'kiwi', 'aguacate', 'mango', 'platano', 'Fresa']\n",
            "\n",
            "Ejemplo de extend\n",
            "['rojo', 'verde', 'azul']\n",
            "['melon', 'sandia', 'kiwi', 'aguacate', 'mango', 'platano', 'Fresa', 'rojo', 'verde', 'azul', 'rojo', 'verde', 'azul']\n",
            "\n",
            "Ejemplo insert\n",
            "tamaño de la lista = 13\n",
            "tamaño de la lista = 14\n",
            "['melon', 'sandia', 'kiwi', 'Limón', 'aguacate', 'mango', 'platano', 'Fresa', 'rojo', 'verde', 'azul', 'rojo', 'verde', 'azul']\n",
            "\n",
            "Ejemplo remove, eliminar el kiwi\n",
            "['melon', 'sandia', 'Limón', 'aguacate', 'mango', 'platano', 'Fresa', 'rojo', 'verde', 'azul', 'rojo', 'verde', 'azul']\n",
            "\n",
            "Ejemplo con operador del\n",
            "['melon', 'sandia', 'aguacate', 'mango', 'platano', 'Fresa', 'rojo', 'verde', 'azul', 'rojo', 'verde', 'azul']\n",
            "----\n",
            "[]\n"
          ],
          "name": "stdout"
        }
      ]
    },
    {
      "cell_type": "code",
      "metadata": {
        "colab": {
          "base_uri": "https://localhost:8080/"
        },
        "id": "EfJ2r1sC_Fo6",
        "outputId": "7c17946d-94d6-429a-ce7c-c6ea270b6e6c"
      },
      "source": [
        "cosas = [\"jose\",True,2,3,4,5,\"pedro\",1.23]\r\n",
        "indice = 0\r\n",
        "a_eliminar=[]\r\n",
        "for elemento in cosas:\r\n",
        "    print(type(elemento))\r\n",
        "    if isinstance( elemento, int ):\r\n",
        "      print(\"Entero\",elemento)\r\n",
        "      a_eliminar.append(indice)\r\n",
        "    indice += 1\r\n",
        "print(a_eliminar)\r\n",
        "for indice in a_eliminar:\r\n",
        "  print( indice)\r\n",
        "  cosas.remove(indice)\r\n",
        "print(cosas)\r\n"
      ],
      "execution_count": 64,
      "outputs": [
        {
          "output_type": "stream",
          "text": [
            "<class 'str'>\n",
            "<class 'bool'>\n",
            "Entero True\n",
            "<class 'int'>\n",
            "Entero 2\n",
            "<class 'int'>\n",
            "Entero 3\n",
            "<class 'int'>\n",
            "Entero 4\n",
            "<class 'int'>\n",
            "Entero 5\n",
            "<class 'str'>\n",
            "<class 'float'>\n",
            "[1, 2, 3, 4, 5]\n",
            "1\n",
            "2\n",
            "3\n",
            "4\n",
            "5\n",
            "['jose', 'pedro', 1.23]\n"
          ],
          "name": "stdout"
        }
      ]
    },
    {
      "cell_type": "code",
      "metadata": {
        "colab": {
          "base_uri": "https://localhost:8080/"
        },
        "id": "i1p9iERW2PdQ",
        "outputId": "466fc77d-36dd-45b5-9401-d20dec4a1663"
      },
      "source": [
        "help(frutas)"
      ],
      "execution_count": 28,
      "outputs": [
        {
          "output_type": "stream",
          "text": [
            "Help on list object:\n",
            "\n",
            "class list(object)\n",
            " |  list() -> new empty list\n",
            " |  list(iterable) -> new list initialized from iterable's items\n",
            " |  \n",
            " |  Methods defined here:\n",
            " |  \n",
            " |  __add__(self, value, /)\n",
            " |      Return self+value.\n",
            " |  \n",
            " |  __contains__(self, key, /)\n",
            " |      Return key in self.\n",
            " |  \n",
            " |  __delitem__(self, key, /)\n",
            " |      Delete self[key].\n",
            " |  \n",
            " |  __eq__(self, value, /)\n",
            " |      Return self==value.\n",
            " |  \n",
            " |  __ge__(self, value, /)\n",
            " |      Return self>=value.\n",
            " |  \n",
            " |  __getattribute__(self, name, /)\n",
            " |      Return getattr(self, name).\n",
            " |  \n",
            " |  __getitem__(...)\n",
            " |      x.__getitem__(y) <==> x[y]\n",
            " |  \n",
            " |  __gt__(self, value, /)\n",
            " |      Return self>value.\n",
            " |  \n",
            " |  __iadd__(self, value, /)\n",
            " |      Implement self+=value.\n",
            " |  \n",
            " |  __imul__(self, value, /)\n",
            " |      Implement self*=value.\n",
            " |  \n",
            " |  __init__(self, /, *args, **kwargs)\n",
            " |      Initialize self.  See help(type(self)) for accurate signature.\n",
            " |  \n",
            " |  __iter__(self, /)\n",
            " |      Implement iter(self).\n",
            " |  \n",
            " |  __le__(self, value, /)\n",
            " |      Return self<=value.\n",
            " |  \n",
            " |  __len__(self, /)\n",
            " |      Return len(self).\n",
            " |  \n",
            " |  __lt__(self, value, /)\n",
            " |      Return self<value.\n",
            " |  \n",
            " |  __mul__(self, value, /)\n",
            " |      Return self*value.\n",
            " |  \n",
            " |  __ne__(self, value, /)\n",
            " |      Return self!=value.\n",
            " |  \n",
            " |  __new__(*args, **kwargs) from builtins.type\n",
            " |      Create and return a new object.  See help(type) for accurate signature.\n",
            " |  \n",
            " |  __repr__(self, /)\n",
            " |      Return repr(self).\n",
            " |  \n",
            " |  __reversed__(...)\n",
            " |      L.__reversed__() -- return a reverse iterator over the list\n",
            " |  \n",
            " |  __rmul__(self, value, /)\n",
            " |      Return value*self.\n",
            " |  \n",
            " |  __setitem__(self, key, value, /)\n",
            " |      Set self[key] to value.\n",
            " |  \n",
            " |  __sizeof__(...)\n",
            " |      L.__sizeof__() -- size of L in memory, in bytes\n",
            " |  \n",
            " |  append(...)\n",
            " |      L.append(object) -> None -- append object to end\n",
            " |  \n",
            " |  clear(...)\n",
            " |      L.clear() -> None -- remove all items from L\n",
            " |  \n",
            " |  copy(...)\n",
            " |      L.copy() -> list -- a shallow copy of L\n",
            " |  \n",
            " |  count(...)\n",
            " |      L.count(value) -> integer -- return number of occurrences of value\n",
            " |  \n",
            " |  extend(...)\n",
            " |      L.extend(iterable) -> None -- extend list by appending elements from the iterable\n",
            " |  \n",
            " |  index(...)\n",
            " |      L.index(value, [start, [stop]]) -> integer -- return first index of value.\n",
            " |      Raises ValueError if the value is not present.\n",
            " |  \n",
            " |  insert(...)\n",
            " |      L.insert(index, object) -- insert object before index\n",
            " |  \n",
            " |  pop(...)\n",
            " |      L.pop([index]) -> item -- remove and return item at index (default last).\n",
            " |      Raises IndexError if list is empty or index is out of range.\n",
            " |  \n",
            " |  remove(...)\n",
            " |      L.remove(value) -> None -- remove first occurrence of value.\n",
            " |      Raises ValueError if the value is not present.\n",
            " |  \n",
            " |  reverse(...)\n",
            " |      L.reverse() -- reverse *IN PLACE*\n",
            " |  \n",
            " |  sort(...)\n",
            " |      L.sort(key=None, reverse=False) -> None -- stable sort *IN PLACE*\n",
            " |  \n",
            " |  ----------------------------------------------------------------------\n",
            " |  Data and other attributes defined here:\n",
            " |  \n",
            " |  __hash__ = None\n",
            "\n"
          ],
          "name": "stdout"
        }
      ]
    },
    {
      "cell_type": "code",
      "metadata": {
        "colab": {
          "base_uri": "https://localhost:8080/"
        },
        "id": "H-2pHQmaFIGq",
        "outputId": "a04af7aa-6903-4e70-9296-c2932c5b01b6"
      },
      "source": [
        "# Slicing sobre listas\r\n",
        "\r\n",
        "frutas = [\"melon\", \"sandia\", \"kiwi\", \"aguacate\", \"mango\", \"platano\"]\r\n",
        "print(frutas[1:4:])\r\n",
        "\r\n",
        "\r\n",
        "sistemas_operativos = [\"Windows\", \"mac OS\", \"Linux\", \"Android\"]\r\n",
        "autos = [\"Ford\", \"Mazda\", \"Honda\"]\r\n",
        "\r\n",
        "cosas = [sistemas_operativos, autos]\r\n",
        "print(cosas)\r\n",
        "print(cosas[0][3][2:5:1])\r\n",
        "print(cosas[1])\r\n",
        "\r\n"
      ],
      "execution_count": 77,
      "outputs": [
        {
          "output_type": "stream",
          "text": [
            "['sandia', 'kiwi', 'aguacate']\n",
            "[['Windows', 'mac OS', 'Linux', 'Android'], ['Ford', 'Mazda', 'Honda']]\n",
            "dro\n",
            "['Ford', 'Mazda', 'Honda']\n"
          ],
          "name": "stdout"
        }
      ]
    }
  ]
}