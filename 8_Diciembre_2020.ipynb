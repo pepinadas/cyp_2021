{
  "nbformat": 4,
  "nbformat_minor": 0,
  "metadata": {
    "colab": {
      "name": "8_Diciembre_2020.ipynb",
      "provenance": [],
      "authorship_tag": "ABX9TyNUk8MCGvvaBIOqVEJSt/DU",
      "include_colab_link": true
    },
    "kernelspec": {
      "name": "python3",
      "display_name": "Python 3"
    }
  },
  "cells": [
    {
      "cell_type": "markdown",
      "metadata": {
        "id": "view-in-github",
        "colab_type": "text"
      },
      "source": [
        "<a href=\"https://colab.research.google.com/github/pepinadas/cyp_2021/blob/main/8_Diciembre_2020.ipynb\" target=\"_parent\"><img src=\"https://colab.research.google.com/assets/colab-badge.svg\" alt=\"Open In Colab\"/></a>"
      ]
    },
    {
      "cell_type": "code",
      "metadata": {
        "colab": {
          "base_uri": "https://localhost:8080/"
        },
        "id": "tMHqDEmvWzLQ",
        "outputId": "4ad70645-5dac-4f31-cb50-aa3dd9b6022a"
      },
      "source": [
        "a = 20\r\n",
        "\r\n",
        "while ( a > 10):\r\n",
        "  print(f\"A = { a }\")\r\n",
        "  a = a-1"
      ],
      "execution_count": 1,
      "outputs": [
        {
          "output_type": "stream",
          "text": [
            "A = 20\n",
            "A = 19\n",
            "A = 18\n",
            "A = 17\n",
            "A = 16\n",
            "A = 15\n",
            "A = 14\n",
            "A = 13\n",
            "A = 12\n",
            "A = 11\n"
          ],
          "name": "stdout"
        }
      ]
    },
    {
      "cell_type": "code",
      "metadata": {
        "colab": {
          "base_uri": "https://localhost:8080/"
        },
        "id": "YhqW8aSYZ6nK",
        "outputId": "f595b74f-fbc8-4c29-836a-81a00290e6bc"
      },
      "source": [
        "#Ejemplo 3.4\r\n",
        "\r\n",
        "SumaGas = 0\r\n",
        "Gasto = float(input(\"Introduce un gasto\\n$\"))\r\n",
        "\r\n",
        "while (Gasto != -1):\r\n",
        "  SumaGas = SumaGas + Gasto  #SumaGas += Gasto\r\n",
        "  Gasto = float(input(\"Introduce un gasto\\n$\"))\r\n",
        "  \r\n",
        "print(f\"La suma total es ${SumaGas} pesos\")"
      ],
      "execution_count": 2,
      "outputs": [
        {
          "output_type": "stream",
          "text": [
            "Introduce un gasto\n",
            "$10\n",
            "Introduce un gasto\n",
            "$10\n",
            "Introduce un gasto\n",
            "$10\n",
            "Introduce un gasto\n",
            "$4.4\n",
            "Introduce un gasto\n",
            "$-1\n",
            "La suma total es $34.4 pesos\n"
          ],
          "name": "stdout"
        }
      ]
    },
    {
      "cell_type": "code",
      "metadata": {
        "colab": {
          "base_uri": "https://localhost:8080/"
        },
        "id": "Y1kFhLiLcGFM",
        "outputId": "fc8f5e19-67fa-4a5d-fb49-1eeefd9d4178"
      },
      "source": [
        "#Ejemplo 3.5\r\n",
        "\r\n",
        "Num = float(input(\"Ingresar un numero: \"))\r\n",
        "\r\n",
        "while ( Num != -1):\r\n",
        "  Cub = Num**3\r\n",
        "  print(\"El cubo de ese numero es\\n\",Cub)\r\n",
        "  Num = float(input(\"Ingresar un numero: \"))\r\n",
        "\r\n",
        "print(\"Fin del programa\")\r\n"
      ],
      "execution_count": 6,
      "outputs": [
        {
          "output_type": "stream",
          "text": [
            "Ingresar un numero: -1\n",
            "Fin del programa\n"
          ],
          "name": "stdout"
        }
      ]
    },
    {
      "cell_type": "code",
      "metadata": {
        "colab": {
          "base_uri": "https://localhost:8080/"
        },
        "id": "vIHkmvG5d6H5",
        "outputId": "70c5d413-9643-4205-84f6-beba12ca674a"
      },
      "source": [
        "#Problema 3.1\r\n",
        "\r\n",
        "SumPar = 0\r\n",
        "SumImp = 0\r\n",
        "CuePar = 0\r\n",
        "\r\n",
        "i = 1\r\n",
        "\r\n",
        "while (i<= 5):\r\n",
        "  Num = int(input(\"introduce un numero entero\\n\"))\r\n",
        "\r\n",
        "  if (Num != 0):\r\n",
        "    if (((-1)**Num)>0):  # num % 2\r\n",
        "\r\n",
        "      SumPar = SumPar + Num\r\n",
        "      CuePar = CuePar + 1\r\n",
        "    else:\r\n",
        "      SumImp = SumImp + Num\r\n",
        "  i = i + 1\r\n",
        "\r\n",
        "ProPar = SumPar/CuePar\r\n",
        "\r\n",
        "print(f\"El promedio de los pares es: {ProPar}\")\r\n",
        "print(f\"La suma de los impares es: {SumImp}\")\r\n",
        "\r\n",
        "print(\"Fin del programa\")\r\n"
      ],
      "execution_count": 14,
      "outputs": [
        {
          "output_type": "stream",
          "text": [
            "introduce un numero entero\n",
            "1\n",
            "introduce un numero entero\n",
            "2\n",
            "introduce un numero entero\n",
            "3\n",
            "introduce un numero entero\n",
            "4\n",
            "introduce un numero entero\n",
            "5\n",
            "El promedio de los pares es: 3.0\n",
            "La suma de los impares es: 9\n",
            "Fin del programa\n"
          ],
          "name": "stdout"
        }
      ]
    },
    {
      "cell_type": "code",
      "metadata": {
        "colab": {
          "base_uri": "https://localhost:8080/"
        },
        "id": "osbTTsm-khho",
        "outputId": "dedb8d08-6e7e-4f24-cdc6-1be39c28b7bd"
      },
      "source": [
        "#Problema 3.2\r\n",
        "\r\n",
        "Band = True\r\n",
        "SumSer = 0\r\n",
        "i = 2\r\n",
        "\r\n",
        "while (i <= 1800):\r\n",
        "  SumSer = SumSer + i\r\n",
        "  print(f\"{i},\", end=\"\")\r\n",
        "  if Band:\r\n",
        "    Band = False\r\n",
        "    i = i + 3\r\n",
        "  else:\r\n",
        "    Band = True\r\n",
        "    i = i + 2\r\n",
        "\r\n",
        "print(\"\\nLa suma de la serie es:\",SumSer)\r\n"
      ],
      "execution_count": 18,
      "outputs": [
        {
          "output_type": "stream",
          "text": [
            "2,5,7,10,12,15,17,20,22,25,27,30,32,35,37,40,42,45,47,50,52,55,57,60,62,65,67,70,72,75,77,80,82,85,87,90,92,95,97,100,102,105,107,110,112,115,117,120,122,125,127,130,132,135,137,140,142,145,147,150,152,155,157,160,162,165,167,170,172,175,177,180,182,185,187,190,192,195,197,200,202,205,207,210,212,215,217,220,222,225,227,230,232,235,237,240,242,245,247,250,252,255,257,260,262,265,267,270,272,275,277,280,282,285,287,290,292,295,297,300,302,305,307,310,312,315,317,320,322,325,327,330,332,335,337,340,342,345,347,350,352,355,357,360,362,365,367,370,372,375,377,380,382,385,387,390,392,395,397,400,402,405,407,410,412,415,417,420,422,425,427,430,432,435,437,440,442,445,447,450,452,455,457,460,462,465,467,470,472,475,477,480,482,485,487,490,492,495,497,500,502,505,507,510,512,515,517,520,522,525,527,530,532,535,537,540,542,545,547,550,552,555,557,560,562,565,567,570,572,575,577,580,582,585,587,590,592,595,597,600,602,605,607,610,612,615,617,620,622,625,627,630,632,635,637,640,642,645,647,650,652,655,657,660,662,665,667,670,672,675,677,680,682,685,687,690,692,695,697,700,702,705,707,710,712,715,717,720,722,725,727,730,732,735,737,740,742,745,747,750,752,755,757,760,762,765,767,770,772,775,777,780,782,785,787,790,792,795,797,800,802,805,807,810,812,815,817,820,822,825,827,830,832,835,837,840,842,845,847,850,852,855,857,860,862,865,867,870,872,875,877,880,882,885,887,890,892,895,897,900,902,905,907,910,912,915,917,920,922,925,927,930,932,935,937,940,942,945,947,950,952,955,957,960,962,965,967,970,972,975,977,980,982,985,987,990,992,995,997,1000,1002,1005,1007,1010,1012,1015,1017,1020,1022,1025,1027,1030,1032,1035,1037,1040,1042,1045,1047,1050,1052,1055,1057,1060,1062,1065,1067,1070,1072,1075,1077,1080,1082,1085,1087,1090,1092,1095,1097,1100,1102,1105,1107,1110,1112,1115,1117,1120,1122,1125,1127,1130,1132,1135,1137,1140,1142,1145,1147,1150,1152,1155,1157,1160,1162,1165,1167,1170,1172,1175,1177,1180,1182,1185,1187,1190,1192,1195,1197,1200,1202,1205,1207,1210,1212,1215,1217,1220,1222,1225,1227,1230,1232,1235,1237,1240,1242,1245,1247,1250,1252,1255,1257,1260,1262,1265,1267,1270,1272,1275,1277,1280,1282,1285,1287,1290,1292,1295,1297,1300,1302,1305,1307,1310,1312,1315,1317,1320,1322,1325,1327,1330,1332,1335,1337,1340,1342,1345,1347,1350,1352,1355,1357,1360,1362,1365,1367,1370,1372,1375,1377,1380,1382,1385,1387,1390,1392,1395,1397,1400,1402,1405,1407,1410,1412,1415,1417,1420,1422,1425,1427,1430,1432,1435,1437,1440,1442,1445,1447,1450,1452,1455,1457,1460,1462,1465,1467,1470,1472,1475,1477,1480,1482,1485,1487,1490,1492,1495,1497,1500,1502,1505,1507,1510,1512,1515,1517,1520,1522,1525,1527,1530,1532,1535,1537,1540,1542,1545,1547,1550,1552,1555,1557,1560,1562,1565,1567,1570,1572,1575,1577,1580,1582,1585,1587,1590,1592,1595,1597,1600,1602,1605,1607,1610,1612,1615,1617,1620,1622,1625,1627,1630,1632,1635,1637,1640,1642,1645,1647,1650,1652,1655,1657,1660,1662,1665,1667,1670,1672,1675,1677,1680,1682,1685,1687,1690,1692,1695,1697,1700,1702,1705,1707,1710,1712,1715,1717,1720,1722,1725,1727,1730,1732,1735,1737,1740,1742,1745,1747,1750,1752,1755,1757,1760,1762,1765,1767,1770,1772,1775,1777,1780,1782,1785,1787,1790,1792,1795,1797,1800,\n",
            "La suma de la serie es: 648720\n"
          ],
          "name": "stdout"
        }
      ]
    },
    {
      "cell_type": "code",
      "metadata": {
        "id": "h5yKuoR9qQC1"
      },
      "source": [
        "s1 = 0\r\n",
        "s2 = 0\r\n",
        "s3 = 0\r\n",
        "#...\r\n",
        "s70 = 0\r\n",
        "s1 = float(input(\"Dame el sueldo\"))\r\n",
        "s2 = float(input(\"Dame el sueldo\"))\r\n",
        "s3 = float(input(\"Dame el sueldo\"))\r\n",
        "#...\r\n",
        "s70 = float(input(\"Dame el sueldo\"))"
      ],
      "execution_count": null,
      "outputs": []
    },
    {
      "cell_type": "code",
      "metadata": {
        "colab": {
          "base_uri": "https://localhost:8080/"
        },
        "id": "d89qYS7drTOW",
        "outputId": "8bea7883-4053-4ec3-9b06-13d446941cf9"
      },
      "source": [
        "#Ejemplo de arreglos\r\n",
        "\r\n",
        "\"\"\"\r\n",
        "En python no existe el tipo de dato especial arreglo.\r\n",
        "En su lugar existe el tipo de dato nativo list que\r\n",
        "funciona de manera muy semejante.\r\n",
        "Ejemplo: Declarar un arreglo de 70 elementos de tipo float para almacenar\r\n",
        "sueldos.\r\n",
        "\"\"\"\r\n",
        "Sueldos = [0.0  for x in range (7)]\r\n",
        "print (Sueldos)\r\n",
        "Sueldos[0] = 200.5\r\n",
        "print(Sueldos)\r\n",
        "Sueldos[4] = 77.77\r\n",
        "print(Sueldos)\r\n",
        "\"\"\"\r\n",
        "En lenguaje C un arreglo se declara de la forma\r\n",
        "float sueldos [7] = {0.0};\r\n",
        "\r\n",
        "En Java sería así:\r\n",
        "float [] sueldos = new int [7] = {0.0};\r\n",
        "\r\n",
        "ambos, cambiar el valor del primer elemento \r\n",
        "sueldos[0] = "
      ],
      "execution_count": 27,
      "outputs": [
        {
          "output_type": "stream",
          "text": [
            "[0.0, 0.0, 0.0, 0.0, 0.0, 0.0, 0.0]\n",
            "[200.5, 0.0, 0.0, 0.0, 0.0, 0.0, 0.0]\n",
            "[200.5, 0.0, 0.0, 0.0, 77.77, 0.0, 0.0]\n"
          ],
          "name": "stdout"
        }
      ]
    },
    {
      "cell_type": "code",
      "metadata": {
        "colab": {
          "base_uri": "https://localhost:8080/"
        },
        "id": "ThQQ8HIQuBNU",
        "outputId": "3ae72432-6356-4202-fcdb-8b1875f312c3"
      },
      "source": [
        "S = [0.0 for x in range(7)]\r\n",
        "for j in range(7):\r\n",
        "  S[j] = float(input(\"Introduce un sueldo\"))\r\n",
        "print(S)\r\n",
        "\r\n",
        "print(\"--------------------------------\")\r\n",
        "for j in range (7):\r\n",
        "  print(S[j])"
      ],
      "execution_count": 33,
      "outputs": [
        {
          "output_type": "stream",
          "text": [
            "Introduce un sueldo1\n",
            "Introduce un sueldo2\n",
            "Introduce un sueldo3\n",
            "Introduce un sueldo4\n",
            "Introduce un sueldo5\n",
            "Introduce un sueldo6\n",
            "Introduce un sueldo7\n",
            "[1.0, 2.0, 3.0, 4.0, 5.0, 6.0, 7.0]\n",
            "--------------------------------\n",
            "1.0\n",
            "2.0\n",
            "3.0\n",
            "4.0\n",
            "5.0\n",
            "6.0\n",
            "7.0\n"
          ],
          "name": "stdout"
        }
      ]
    },
    {
      "cell_type": "code",
      "metadata": {
        "id": "PozgRARUwvaJ"
      },
      "source": [
        ""
      ],
      "execution_count": null,
      "outputs": []
    }
  ]
}