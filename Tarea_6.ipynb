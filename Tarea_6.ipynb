{
  "nbformat": 4,
  "nbformat_minor": 0,
  "metadata": {
    "colab": {
      "name": "Tarea 6.ipynb",
      "provenance": [],
      "collapsed_sections": [],
      "authorship_tag": "ABX9TyNbhLsJTfKRNRrS0BDApdZ1",
      "include_colab_link": true
    },
    "kernelspec": {
      "name": "python3",
      "display_name": "Python 3"
    }
  },
  "cells": [
    {
      "cell_type": "markdown",
      "metadata": {
        "id": "view-in-github",
        "colab_type": "text"
      },
      "source": [
        "<a href=\"https://colab.research.google.com/github/pepinadas/cyp_2021/blob/main/Tarea_6.ipynb\" target=\"_parent\"><img src=\"https://colab.research.google.com/assets/colab-badge.svg\" alt=\"Open In Colab\"/></a>"
      ]
    },
    {
      "cell_type": "code",
      "metadata": {
        "colab": {
          "base_uri": "https://localhost:8080/"
        },
        "id": "cxYBOWbXYF5c",
        "outputId": "73905b3b-f5a5-42f5-f2ce-dc5f1b02aeca"
      },
      "source": [
        "#Ejercicio 3.3\r\n",
        "\r\n",
        "Serie = 0\r\n",
        "\r\n",
        "N = int(input(\"Colocar el numero N\\n\"))\r\n",
        "\r\n",
        "Band = True\r\n",
        "I = 1\r\n",
        "\r\n",
        "while ( I <= N ):\r\n",
        "  if (Band == True):\r\n",
        "    Serie = Serie + 1/I\r\n",
        "    Band = False\r\n",
        "  else:\r\n",
        "    Serie = Serie - 1/I\r\n",
        "    Band = True\r\n",
        "  I = I + 1\r\n",
        "\r\n",
        "print(Serie)\r\n"
      ],
      "execution_count": null,
      "outputs": [
        {
          "output_type": "stream",
          "text": [
            "Colocar el numero N\n",
            "9\n",
            "0.7456349206349207\n"
          ],
          "name": "stdout"
        }
      ]
    },
    {
      "cell_type": "code",
      "metadata": {
        "id": "EE0ch99ZanBU",
        "colab": {
          "base_uri": "https://localhost:8080/"
        },
        "outputId": "96bbcd26-2980-4195-9da5-ed79e3155e3c"
      },
      "source": [
        "#Ejercicio 3.4\r\n",
        "\r\n",
        "Nom = 0\r\n",
        "\r\n",
        "Sue = float(input(\"Introducir sueldo: \"))\r\n",
        "\r\n",
        "while (Sue != -1):\r\n",
        "  if (Sue < 1000):\r\n",
        "    Nsue = Sue*1.15\r\n",
        "  else:\r\n",
        "    Nsue = Sue*1.12\r\n",
        "  Nom = Nom + Nsue\r\n",
        "  print (\"El nuevo sueldo es: \",Nsue)\r\n",
        "  Sue = float(input(\"Introducir sueldo: \"))\r\n",
        "\r\n",
        "print(\"El sueldo acumulado es \",Nom)"
      ],
      "execution_count": null,
      "outputs": [
        {
          "output_type": "stream",
          "text": [
            "Introducir sueldo: 855\n",
            "El nuevo sueldo es:  983.2499999999999\n",
            "Introducir sueldo: 760.32\n",
            "El nuevo sueldo es:  874.3679999999999\n",
            "Introducir sueldo: 1100.20\n",
            "El nuevo sueldo es:  1232.2240000000002\n",
            "Introducir sueldo: 614\n",
            "El nuevo sueldo es:  706.0999999999999\n",
            "Introducir sueldo: 2600\n",
            "El nuevo sueldo es:  2912.0000000000005\n",
            "Introducir sueldo: 817.50\n",
            "El nuevo sueldo es:  940.1249999999999\n",
            "Introducir sueldo: 1280.30\n",
            "El nuevo sueldo es:  1433.9360000000001\n",
            "Introducir sueldo: 687\n",
            "El nuevo sueldo es:  790.05\n",
            "Introducir sueldo: -1\n",
            "El sueldo acumulado es  9872.053\n"
          ],
          "name": "stdout"
        }
      ]
    },
    {
      "cell_type": "code",
      "metadata": {
        "colab": {
          "base_uri": "https://localhost:8080/"
        },
        "id": "nak-QjxIndEh",
        "outputId": "ea8397dd-8ad3-4c98-e037-6f5dd743df70"
      },
      "source": [
        "#Ejercicio 3.5\r\n",
        "\r\n",
        "SumTr = 0\r\n",
        "SumPos = 0\r\n",
        "CuePos = 0\r\n",
        "\r\n",
        "N = int(input(\"Colocar el numero de datos a ingresar: \"))\r\n",
        "I = 1\r\n",
        "\r\n",
        "while (I <= N):\r\n",
        "  Num = int(input(f\"Colocar el {I} Numero: \"))\r\n",
        "  \r\n",
        "  if (Num>0):\r\n",
        "    SumPos = SumPos + Num\r\n",
        "    CuePos = CuePos + 1\r\n",
        "  else:\r\n",
        "    SumTr = SumTr + Num\r\n",
        "  I = I + 1\r\n",
        "\r\n",
        "ProGen = (SumPos + SumTr)/N\r\n",
        "ProPos = (SumPos/CuePos)\r\n",
        "\r\n",
        "print(f\"Cantidad de numeros Positivos: {CuePos}\")\r\n",
        "print(f\"Promedio de numeros Positivos: {ProPos}\\nPromedio general de los numeros: {ProGen}\")"
      ],
      "execution_count": null,
      "outputs": [
        {
          "output_type": "stream",
          "text": [
            "Colocar el numero de datos a ingresar: 20\n",
            "Colocar el 1 Numero: 7\n",
            "Colocar el 2 Numero: 12\n",
            "Colocar el 3 Numero: 0\n",
            "Colocar el 4 Numero: 6\n",
            "Colocar el 5 Numero: 11\n",
            "Colocar el 6 Numero: -3\n",
            "Colocar el 7 Numero: 17\n",
            "Colocar el 8 Numero: 12\n",
            "Colocar el 9 Numero: 19\n",
            "Colocar el 10 Numero: 0\n",
            "Colocar el 11 Numero: 11\n",
            "Colocar el 12 Numero: 4\n",
            "Colocar el 13 Numero: -5\n",
            "Colocar el 14 Numero: -1\n",
            "Colocar el 15 Numero: 0\n",
            "Colocar el 16 Numero: 3\n",
            "Colocar el 17 Numero: 24\n",
            "Colocar el 18 Numero: 0\n",
            "Colocar el 19 Numero: 3\n",
            "Colocar el 20 Numero: -16\n",
            "Cantidad de numeros Positivos: 12\n",
            "Promedio de numeros Positivos: 10.75\n",
            "Promedio general de los numeros: 5.2\n"
          ],
          "name": "stdout"
        }
      ]
    },
    {
      "cell_type": "code",
      "metadata": {
        "id": "MQALL3g3tZjj",
        "colab": {
          "base_uri": "https://localhost:8080/"
        },
        "outputId": "a0e97f5b-da40-437b-fd98-ec18fe5aed62"
      },
      "source": [
        "#Problema 3.6\r\n",
        "\r\n",
        "May = -100000\r\n",
        "Men = 100000\r\n",
        "\r\n",
        "N = int(input(\"Colocar el numero de datos a ingresar: \"))\r\n",
        "\r\n",
        "I = 1\r\n",
        "\r\n",
        "while (I<=N):\r\n",
        "  Num = int(input(f\"Colocar Numero {I}: \"))\r\n",
        "  if (Num>May):\r\n",
        "    May = Num\r\n",
        "  if (Num<Men):\r\n",
        "    Men = Num\r\n",
        "\r\n",
        "  I = I + 1\r\n",
        "print(f\"Numero mayor: {May}\\nNumero menor: {Men}\")"
      ],
      "execution_count": null,
      "outputs": [
        {
          "output_type": "stream",
          "text": [
            "Colocar el numero de datos a ingresar: 12\n",
            "Colocar Numero 1: 170\n",
            "Colocar Numero 2: 44\n",
            "Colocar Numero 3: 815\n",
            "Colocar Numero 4: 1700\n",
            "Colocar Numero 5: 38\n",
            "Colocar Numero 6: 140\n",
            "Colocar Numero 7: 380\n",
            "Colocar Numero 8: 1020\n",
            "Colocar Numero 9: 116\n",
            "Colocar Numero 10: 14\n",
            "Colocar Numero 11: 730\n",
            "Colocar Numero 12: 960\n",
            "Numero mayor:1700\n",
            "Numero menor: 14\n"
          ],
          "name": "stdout"
        }
      ]
    },
    {
      "cell_type": "code",
      "metadata": {
        "colab": {
          "base_uri": "https://localhost:8080/"
        },
        "id": "O0N_dNaTJEDn",
        "outputId": "d8ac89cf-60de-4d2e-b885-47d73d400319"
      },
      "source": [
        "#Problema 3.7\r\n",
        "\r\n",
        "Med = 0\r\n",
        "Chi = 0\r\n",
        "Gra = 0\r\n",
        "\r\n",
        "N = int(input(\"Colocar el numero de datos a ingresar: \"))\r\n",
        "\r\n",
        "I = 1\r\n",
        "\r\n",
        "while (I <= N):\r\n",
        "  V = float(input(f\"Colocar la venta {I} del vendedor: \"))\r\n",
        "  \r\n",
        "  if (V<=200):\r\n",
        "    Chi =  Chi + 1\r\n",
        "  else:\r\n",
        "    if (V<400):\r\n",
        "      Med = Med + 1\r\n",
        "    else:\r\n",
        "      Gra = Gra + 1\r\n",
        "  I = I + 1\r\n",
        "\r\n",
        "print (\"Ventas de $200 o menos:\",Chi)\r\n",
        "print (\"Ventas entre $200 y $400:\",Med)\r\n",
        "print (\"Ventas de 400 o mas:\",Gra)"
      ],
      "execution_count": null,
      "outputs": [
        {
          "output_type": "stream",
          "text": [
            "Colocar el numero de datos a ingresar: 12\n",
            "Colocar la venta 1 del vendedor: 180.25\n",
            "Colocar la venta 2 del vendedor: 470.30\n",
            "Colocar la venta 3 del vendedor: 150.25\n",
            "Colocar la venta 4 del vendedor: 88.60\n",
            "Colocar la venta 5 del vendedor: 230.15\n",
            "Colocar la venta 6 del vendedor: 170.20\n",
            "Colocar la venta 7 del vendedor: 40.30\n",
            "Colocar la venta 8 del vendedor: 201.90\n",
            "Colocar la venta 9 del vendedor: 60.32\n",
            "Colocar la venta 10 del vendedor: 280.30\n",
            "Colocar la venta 11 del vendedor: 15.70\n",
            "Colocar la venta 12 del vendedor: 140.20\n",
            "Ventas de $200 o menos: 8\n",
            "Ventas entre $200 y $400: 3\n",
            "Ventas de 400 o mas: 1\n"
          ],
          "name": "stdout"
        }
      ]
    },
    {
      "cell_type": "code",
      "metadata": {
        "colab": {
          "base_uri": "https://localhost:8080/"
        },
        "id": "qBIMwHd2LwmM",
        "outputId": "08eb60ff-ab28-4ff1-a47f-884b493a3be8"
      },
      "source": [
        "#Problema 3.8\r\n",
        "\r\n",
        "Num = int(input(\"Colocar un numero: \"))\r\n",
        "\r\n",
        "if Num > 0:\r\n",
        "  while (Num != 1):\r\n",
        "    print (Num)\r\n",
        "    if (Num%2 == 0):\r\n",
        "      Num = Num/2\r\n",
        "    else:\r\n",
        "      Num = Num*3+1\r\n",
        "  print(\"El numero final es:\",Num)\r\n",
        "else:\r\n",
        "  print(\"Numero tiene que ser un entero positivo\")"
      ],
      "execution_count": null,
      "outputs": [
        {
          "output_type": "stream",
          "text": [
            "Colocar un numero: 25\n",
            "25\n",
            "76\n",
            "38.0\n",
            "19.0\n",
            "58.0\n",
            "29.0\n",
            "88.0\n",
            "44.0\n",
            "22.0\n",
            "11.0\n",
            "34.0\n",
            "17.0\n",
            "52.0\n",
            "26.0\n",
            "13.0\n",
            "40.0\n",
            "20.0\n",
            "10.0\n",
            "5.0\n",
            "16.0\n",
            "8.0\n",
            "4.0\n",
            "2.0\n",
            "El numero final es: 1.0\n"
          ],
          "name": "stdout"
        }
      ]
    },
    {
      "cell_type": "code",
      "metadata": {
        "colab": {
          "base_uri": "https://localhost:8080/"
        },
        "id": "y-E5Fzv3P7yC",
        "outputId": "b40e8a48-325d-4141-9c54-202998151951"
      },
      "source": [
        "#Problema 3.9\r\n",
        "\r\n",
        "Serie = 0\r\n",
        "\r\n",
        "N = int(input(\"Colocar el numero de terminos en la serie: \"))\r\n",
        "\r\n",
        "I = 1\r\n",
        "\r\n",
        "while (I <= N):\r\n",
        "  Serie = Serie + (I**I)\r\n",
        "  I = I +1\r\n",
        "print(Serie)"
      ],
      "execution_count": null,
      "outputs": [
        {
          "output_type": "stream",
          "text": [
            "Colocar el numero de terminos en la serie: 8\n",
            "17650828\n"
          ],
          "name": "stdout"
        }
      ]
    },
    {
      "cell_type": "code",
      "metadata": {
        "colab": {
          "base_uri": "https://localhost:8080/"
        },
        "id": "w8f_o19cUr-n",
        "outputId": "436fb349-511a-4d08-d921-ce4f80b48996"
      },
      "source": [
        "#Problema 3.10\r\n",
        "\r\n",
        "Pri = 0\r\n",
        "Seg = 1\r\n",
        "Ter = int(input(\"Colocar el termino de la secuencia a calcular: \"))\r\n",
        "I = 3\r\n",
        "\r\n",
        "while (I <=Ter): #Dejare el 7 por que siento que con el 180 se pierde un poco\r\n",
        "  Sig = Pri + Seg\r\n",
        "  Pri = Seg\r\n",
        "  Seg = Sig\r\n",
        "  I = I + 1\r\n",
        "print (\"Numero Fibonacci:\",Sig)"
      ],
      "execution_count": null,
      "outputs": [
        {
          "output_type": "stream",
          "text": [
            "Numero: 8\n"
          ],
          "name": "stdout"
        }
      ]
    },
    {
      "cell_type": "code",
      "metadata": {
        "id": "1D9Qbd2CV6Dl",
        "colab": {
          "base_uri": "https://localhost:8080/"
        },
        "outputId": "0c568f11-9e04-419d-d35d-33724cf83bdb"
      },
      "source": [
        "#Problema 3.11\r\n",
        "\r\n",
        "Can1 = 0\r\n",
        "Can2 = 0\r\n",
        "Can3 = 0\r\n",
        "Can4 = 0\r\n",
        "\r\n",
        "Voto = int(input(\"Colocar tu voto: \"))\r\n",
        "\r\n",
        "while (Voto != 0):\r\n",
        "\r\n",
        "  if (Voto == 1):\r\n",
        "    Can1 = Can1 + 1\r\n",
        "  elif (Voto == 2):\r\n",
        "    Can2 = Can2 + 1\r\n",
        "  elif (Voto == 3):\r\n",
        "    Can3 = Can3 + 1\r\n",
        "  elif (Voto == 4):\r\n",
        "    Can4 = Can4 + 1\r\n",
        "  else:\r\n",
        "    print(\"Colocar un candidato valido\")\r\n",
        "  Voto = int(input(\"Colocar tu voto: \"))\r\n",
        "\r\n",
        "Sumv = Can1 + Can2 + Can3 + Can4\r\n",
        "Por1 = (Can1/Sumv)*100\r\n",
        "Por2 = (Can2/Sumv)*100\r\n",
        "Por3 = (Can3/Sumv)*100\r\n",
        "Por4 = (Can4/Sumv)*100\r\n",
        "\r\n",
        "print(\"Votos para el candidato 1: \",Can1,\" Porcentaje: \",Por1)\r\n",
        "print(\"Votos para el candidato 2: \",Can2,\" Porcentaje: \",Por2)\r\n",
        "print(\"Votos para el candidato 3: \",Can3,\" Porcentaje: \",Por3)\r\n",
        "print(\"Votos para el candidato 4: \",Can4,\" Porcentaje: \",Por4)\r\n",
        "\r\n",
        "print(\"Numero total de votos:\",Sumv)"
      ],
      "execution_count": null,
      "outputs": [
        {
          "output_type": "stream",
          "text": [
            "Colocar tu voto: 1\n",
            "Colocar tu voto: 2\n",
            "Colocar tu voto: 1\n",
            "Colocar tu voto: 1\n",
            "Colocar tu voto: 3\n",
            "Colocar tu voto: 1\n",
            "Colocar tu voto: 1\n",
            "Colocar tu voto: 2\n",
            "Colocar tu voto: 4\n",
            "Colocar tu voto: 4\n",
            "Colocar tu voto: 3\n",
            "Colocar tu voto: 1\n",
            "Colocar tu voto: 1\n",
            "Colocar tu voto: 2\n",
            "Colocar tu voto: 3\n",
            "Colocar tu voto: 1\n",
            "Colocar tu voto: 4\n",
            "Colocar tu voto: 1\n",
            "Colocar tu voto: 2\n",
            "Colocar tu voto: 1\n",
            "Colocar tu voto: 2\n",
            "Colocar tu voto: 4\n",
            "Colocar tu voto: 4\n",
            "Colocar tu voto: 2\n",
            "Colocar tu voto: 1\n",
            "Colocar tu voto: 0\n",
            "Votos para el candidato 1:  11  Porcentaje:  44.0\n",
            "Votos para el candidato 2:  6  Porcentaje:  24.0\n",
            "Votos para el candidato 3:  3  Porcentaje:  12.0\n",
            "Votos para el candidato 4:  5  Porcentaje:  20.0\n",
            "Numero total de votos: 25\n"
          ],
          "name": "stdout"
        }
      ]
    },
    {
      "cell_type": "code",
      "metadata": {
        "id": "GKkH1zVdnNfk",
        "colab": {
          "base_uri": "https://localhost:8080/"
        },
        "outputId": "cef425ff-b9ce-4363-c1a3-6b66b5b36b2f"
      },
      "source": [
        "#Problema 3.12\r\n",
        "\r\n",
        "Masue = 0\r\n",
        "\r\n",
        "N = int(input(\"Colocar el numero de empleados: \"))\r\n",
        "\r\n",
        "I = 1\r\n",
        "\r\n",
        "while (I<=N):\r\n",
        "  Numemp = int(input(\"Colocar el id del empleado: \"))\r\n",
        "  Sue = float(input(\"Colocar el sueldo del empleado: \"))\r\n",
        "  \r\n",
        "  if (Sue>Masue):\r\n",
        "    Masue = Sue\r\n",
        "    Manum = Numemp\r\n",
        "  I = I+1\r\n",
        "\r\n",
        "print(\"Numero de empleado:\",Manum)\r\n",
        "print(\"Mayor sueldo:\",Masue)"
      ],
      "execution_count": null,
      "outputs": [
        {
          "output_type": "stream",
          "text": [
            "Colocar el numero de empleados: 6\n",
            "Colocar el id del empleado: 1235\n",
            "Colocar el sueldo del empleado: 2580\n",
            "Colocar el id del empleado: 1260\n",
            "Colocar el sueldo del empleado: 1400\n",
            "Colocar el id del empleado: 1325\n",
            "Colocar el sueldo del empleado: 3600\n",
            "Colocar el id del empleado: 1418\n",
            "Colocar el sueldo del empleado: 2720\n",
            "Colocar el id del empleado: 1650\n",
            "Colocar el sueldo del empleado: 4120\n",
            "Colocar el id del empleado: 1717\n",
            "Colocar el sueldo del empleado: 1950\n",
            "Numero de empleado: 1650\n",
            "Mayor sueldo: 4120.0\n"
          ],
          "name": "stdout"
        }
      ]
    },
    {
      "cell_type": "code",
      "metadata": {
        "colab": {
          "base_uri": "https://localhost:8080/"
        },
        "id": "fd1vGBvW4gah",
        "outputId": "2a5476be-eab8-4892-bf44-d753bdd699fc"
      },
      "source": [
        "#Problema 3.13\r\n",
        "\r\n",
        "Arsu = 0\r\n",
        "Arno = 0\r\n",
        "Mersu = 50000\r\n",
        "Arce = 0\r\n",
        "\r\n",
        "I = 1\r\n",
        "\r\n",
        "while (I<=12):\r\n",
        "  Rno = float(input(f\"Lluvia caida en la región en la región norte en el mes {I}: \"))\r\n",
        "  Rce = float(input(f\"Lluvia caida en la región en la región centro en el mes {I}: \"))\r\n",
        "  Rsu = float(input(f\"Lluvia caida en la región en la región sur en el mes {I}: \"))\r\n",
        "\r\n",
        "  Arno = Arno + Rno\r\n",
        "  Arce = Arce + Rce\r\n",
        "  Arsu = Arsu + Rsu\r\n",
        "\r\n",
        "  if (Rsu < Mersu):\r\n",
        "    Mersu = Rsu\r\n",
        "    Mes = I\r\n",
        "  I = I + 1\r\n",
        "\r\n",
        "Prorce = Arce/12\r\n",
        "\r\n",
        "print(f\"Promedio region centro {Prorce}\")\r\n",
        "print(\"Mes con menor lluvia: \",Mes)\r\n",
        "print(\"Registro del mes\",Mersu)\r\n",
        "\r\n",
        "if (Arno > Arce):\r\n",
        "  if (Arno>Arsu):\r\n",
        "    print(\"La region con mayor lluvia es la region norte\")\r\n",
        "  else:\r\n",
        "    print(\"La region con mayor lluvia es la region sur\")\r\n",
        "else:\r\n",
        "  if (Arce>Arsu):\r\n",
        "    print(\"La region con mayor lluvia es la region centro\")\r\n",
        "  else:\r\n",
        "    print(\"La region con mayor lluvia es la region sur\")\r\n",
        "  "
      ],
      "execution_count": null,
      "outputs": [
        {
          "output_type": "stream",
          "text": [
            "Lluvia caida en la región en la región norte en el mes 1: 80\n",
            "Lluvia caida en la región en la región centro en el mes 1: 70\n",
            "Lluvia caida en la región en la región sur en el mes 1: 170\n",
            "Lluvia caida en la región en la región norte en el mes 2: 60\n",
            "Lluvia caida en la región en la región centro en el mes 2: 85\n",
            "Lluvia caida en la región en la región sur en el mes 2: 100\n",
            "Lluvia caida en la región en la región norte en el mes 3: 120\n",
            "Lluvia caida en la región en la región centro en el mes 3: 100\n",
            "Lluvia caida en la región en la región sur en el mes 3: 185\n",
            "Lluvia caida en la región en la región norte en el mes 4: 100\n",
            "Lluvia caida en la región en la región centro en el mes 4: 90\n",
            "Lluvia caida en la región en la región sur en el mes 4: 88\n",
            "Lluvia caida en la región en la región norte en el mes 5: 70\n",
            "Lluvia caida en la región en la región centro en el mes 5: 82\n",
            "Lluvia caida en la región en la región sur en el mes 5: 80\n",
            "Lluvia caida en la región en la región norte en el mes 6: 150\n",
            "Lluvia caida en la región en la región centro en el mes 6: 130\n",
            "Lluvia caida en la región en la región sur en el mes 6: 122\n",
            "Lluvia caida en la región en la región norte en el mes 7: 100\n",
            "Lluvia caida en la región en la región centro en el mes 7: 95\n",
            "Lluvia caida en la región en la región sur en el mes 7: 67\n",
            "Lluvia caida en la región en la región norte en el mes 8: 47\n",
            "Lluvia caida en la región en la región centro en el mes 8: 38\n",
            "Lluvia caida en la región en la región sur en el mes 8: 55\n",
            "Lluvia caida en la región en la región norte en el mes 9: 95\n",
            "Lluvia caida en la región en la región centro en el mes 9: 115\n",
            "Lluvia caida en la región en la región sur en el mes 9: 110\n",
            "Lluvia caida en la región en la región norte en el mes 10: 70\n",
            "Lluvia caida en la región en la región centro en el mes 10: 62\n",
            "Lluvia caida en la región en la región sur en el mes 10: 83\n",
            "Lluvia caida en la región en la región norte en el mes 11: 100\n",
            "Lluvia caida en la región en la región centro en el mes 11: 87\n",
            "Lluvia caida en la región en la región sur en el mes 11: 107\n",
            "Lluvia caida en la región en la región norte en el mes 12: 130\n",
            "Lluvia caida en la región en la región centro en el mes 12: 103\n",
            "Lluvia caida en la región en la región sur en el mes 12: 148\n",
            "Promedio region centro 88.08333333333333\n",
            "Mes con menor lluvia reg.sur 8\n",
            "Registro del mes 55.0\n",
            "La region con mayor lluvia es la region sur\n"
          ],
          "name": "stdout"
        }
      ]
    },
    {
      "cell_type": "code",
      "metadata": {
        "colab": {
          "base_uri": "https://localhost:8080/"
        },
        "id": "3FR7ei_c_IrC",
        "outputId": "0b481677-012a-4f4b-88c2-995bf1627631"
      },
      "source": [
        "#Problema 3.14\r\n",
        "\r\n",
        "Ap1 = 0\r\n",
        "Ap2 = 0\r\n",
        "Ap3 = 0\r\n",
        "Ap4 = 0\r\n",
        "Ap5 = 0\r\n",
        "Recau = 0\r\n",
        "\r\n",
        "P1 = float(input(\"Colocar el precio de la localidad 1: \"))\r\n",
        "P2 = float(input(\"Colocar el precio de la localidad 2: \"))\r\n",
        "P3 = float(input(\"Colocar el precio de la localidad 3: \"))\r\n",
        "P4 = float(input(\"Colocar el precio de la localidad 4: \"))\r\n",
        "P5 = float(input(\"Colocar el precio de la localidad 5: \"))\r\n",
        "\r\n",
        "Clave = float(input(\"Colocar el tipo de localidad de la venta: \"))\r\n",
        "Cant = float(input(\"Colocar la cantidad de boletos vendidos: \"))\r\n",
        "\r\n",
        "while (Clave != -1) and (Cant !=-1):\r\n",
        "  \r\n",
        "  if (Clave == 1):\r\n",
        "    Pre = P1*Cant\r\n",
        "    Ap1 = Ap1 + Cant\r\n",
        "  elif (Clave == 2):\r\n",
        "    Pre = P2*Cant\r\n",
        "    Ap2 = Ap2 + Cant\r\n",
        "  elif (Clave == 3):\r\n",
        "    Pre = P3*Cant\r\n",
        "    Ap3 = Ap3 + Cant\r\n",
        "  elif (Clave == 4):\r\n",
        "    Pre = P4*Cant\r\n",
        "    Ap4 = Ap4 + Cant\r\n",
        "  elif (Clave == 5):\r\n",
        "    Pre = P5*Cant\r\n",
        "    Ap5 = Ap5 + Cant\r\n",
        "  print(\"Clave: \",Clave)\r\n",
        "  print(\"Cant: \",Cant)\r\n",
        "  print(\"Pre: \",Pre)\r\n",
        "\r\n",
        "  Recau = Recau + Pre\r\n",
        "\r\n",
        "  Clave = float(input(\"Colocar el tipo de localidad de la venta: \"))\r\n",
        "  Cant = float(input(\"Colocar la cantidad de boletos vendidos: \"))\r\n",
        "\r\n",
        "print(\"Cantidad de boletos tipo 1: \",Ap1)\r\n",
        "print(\"Cantidad de boletos tipo 2: \",Ap2)\r\n",
        "print(\"Cantidad de boletos tipo 3: \",Ap3)\r\n",
        "print(\"Cantidad de boletos tipo 4: \",Ap4)\r\n",
        "print(\"Cantidad de boletos tipo 5: \",Ap5)\r\n",
        "print(\"Recaudación del estado: \",Recau)\r\n",
        "\r\n"
      ],
      "execution_count": null,
      "outputs": [
        {
          "output_type": "stream",
          "text": [
            "Colocar el precio de la localidad 1: 7.25\n",
            "Colocar el precio de la localidad 2: 15.80\n",
            "Colocar el precio de la localidad 3: 25.00\n",
            "Colocar el precio de la localidad 4: 50.00\n",
            "Colocar el precio de la localidad 5: 75.00\n",
            "Colocar el tipo de localidad de la venta: 2\n",
            "Colocar la cantidad de boletos vendidos: 3\n",
            "Clave:  2.0\n",
            "Cant:  3.0\n",
            "Pre:  47.400000000000006\n",
            "Colocar el tipo de localidad de la venta: 3\n",
            "Colocar la cantidad de boletos vendidos: 8\n",
            "Clave:  3.0\n",
            "Cant:  8.0\n",
            "Pre:  200.0\n",
            "Colocar el tipo de localidad de la venta: 2\n",
            "Colocar la cantidad de boletos vendidos: 4\n",
            "Clave:  2.0\n",
            "Cant:  4.0\n",
            "Pre:  63.2\n",
            "Colocar el tipo de localidad de la venta: 1\n",
            "Colocar la cantidad de boletos vendidos: 6\n",
            "Clave:  1.0\n",
            "Cant:  6.0\n",
            "Pre:  43.5\n",
            "Colocar el tipo de localidad de la venta: 4\n",
            "Colocar la cantidad de boletos vendidos: 5\n",
            "Clave:  4.0\n",
            "Cant:  5.0\n",
            "Pre:  250.0\n",
            "Colocar el tipo de localidad de la venta: 1\n",
            "Colocar la cantidad de boletos vendidos: 12\n",
            "Clave:  1.0\n",
            "Cant:  12.0\n",
            "Pre:  87.0\n",
            "Colocar el tipo de localidad de la venta: 2\n",
            "Colocar la cantidad de boletos vendidos: 8\n",
            "Clave:  2.0\n",
            "Cant:  8.0\n",
            "Pre:  126.4\n",
            "Colocar el tipo de localidad de la venta: 5\n",
            "Colocar la cantidad de boletos vendidos: 3\n",
            "Clave:  5.0\n",
            "Cant:  3.0\n",
            "Pre:  225.0\n",
            "Colocar el tipo de localidad de la venta: 2\n",
            "Colocar la cantidad de boletos vendidos: 7\n",
            "Clave:  2.0\n",
            "Cant:  7.0\n",
            "Pre:  110.60000000000001\n",
            "Colocar el tipo de localidad de la venta: 3\n",
            "Colocar la cantidad de boletos vendidos: 14\n",
            "Clave:  3.0\n",
            "Cant:  14.0\n",
            "Pre:  350.0\n",
            "Colocar el tipo de localidad de la venta: 4\n",
            "Colocar la cantidad de boletos vendidos: 1\n",
            "Clave:  4.0\n",
            "Cant:  1.0\n",
            "Pre:  50.0\n",
            "Colocar el tipo de localidad de la venta: 2\n",
            "Colocar la cantidad de boletos vendidos: 11\n",
            "Clave:  2.0\n",
            "Cant:  11.0\n",
            "Pre:  173.8\n",
            "Colocar el tipo de localidad de la venta: 4\n",
            "Colocar la cantidad de boletos vendidos: 9\n",
            "Clave:  4.0\n",
            "Cant:  9.0\n",
            "Pre:  450.0\n",
            "Colocar el tipo de localidad de la venta: 5\n",
            "Colocar la cantidad de boletos vendidos: 7\n",
            "Clave:  5.0\n",
            "Cant:  7.0\n",
            "Pre:  525.0\n",
            "Colocar el tipo de localidad de la venta: 1\n",
            "Colocar la cantidad de boletos vendidos: 23\n",
            "Clave:  1.0\n",
            "Cant:  23.0\n",
            "Pre:  166.75\n",
            "Colocar el tipo de localidad de la venta: 1\n",
            "Colocar la cantidad de boletos vendidos: 18\n",
            "Clave:  1.0\n",
            "Cant:  18.0\n",
            "Pre:  130.5\n",
            "Colocar el tipo de localidad de la venta: 3\n",
            "Colocar la cantidad de boletos vendidos: 4\n",
            "Clave:  3.0\n",
            "Cant:  4.0\n",
            "Pre:  100.0\n",
            "Colocar el tipo de localidad de la venta: -1\n",
            "Colocar la cantidad de boletos vendidos: -1\n",
            "Cantidad de boletos tipo 1:  59.0\n",
            "Cantidad de boletos tipo 2:  33.0\n",
            "Cantidad de boletos tipo 3:  26.0\n",
            "Cantidad de boletos tipo 4:  15.0\n",
            "Cantidad de boletos tipo 5:  10.0\n",
            "Recaudación del estado:  3099.1499999999996\n"
          ],
          "name": "stdout"
        }
      ]
    },
    {
      "cell_type": "code",
      "metadata": {
        "colab": {
          "base_uri": "https://localhost:8080/"
        },
        "id": "ghyN0SigJykc",
        "outputId": "6631a930-143e-4592-c962-6f4d9bb5a301"
      },
      "source": [
        "#Problema 3.15\r\n",
        "#No entiendo por que no funciona el programa, :v (esta fue la tercera version\r\n",
        "#intente hacerlo de 2 formas diferentes antes y no consegui hacer que funcionara)\r\n",
        "Cl = 0\r\n",
        "Cuenta = 0\r\n",
        "Costo = 0\r\n",
        "\r\n",
        "Tipo = int(input(\"¿De que tipo es la llamada? (1 internacional, 2 nacional, 3 local)\"))\r\n",
        "Dur = int(input(\"¿Cuanto duro la llamada en minutos?\\n\"))\r\n",
        "\r\n",
        "while (Tipo != 'X') and (Dur != -1):\r\n",
        "  if (Tipo == 1):\r\n",
        "    if (Dur>3):\r\n",
        "      Costo = 7.59 +(Dur-3)*3.03\r\n",
        "    else:\r\n",
        "      Costo = 7.59\r\n",
        "  else:\r\n",
        "    if (Tipo == 3):\r\n",
        "      Cl = Cl + 1\r\n",
        "      if (Cl>50):\r\n",
        "        Costo = 0.60\r\n",
        "      else:\r\n",
        "        Costo = 0\r\n",
        "    else:\r\n",
        "      if (Tipo == 2):\r\n",
        "        if (Dur > 3):\r\n",
        "          Costo = 1.20 + (Dur-3)*0.48\r\n",
        "        else: \r\n",
        "          Costo = 1.20\r\n",
        "      2else:\r\n",
        "        print (\"Error\")\r\n",
        "  Cuenta = Cuenta + Costo\r\n",
        "  \r\n",
        "  Tipo = input(\"¿De que tipo es la llamada? (1 internacional, 2 nacional, 3 local)\")\r\n",
        "  Dur = int(input(\"¿Cuanto duro la llamada en minutos?\\n\"))\r\n",
        "\r\n",
        "print(\"El costo de la llamada es: \",Cuenta)\r\n"
      ],
      "execution_count": 6,
      "outputs": [
        {
          "output_type": "stream",
          "text": [
            "¿De que tipo es la llamada? (1 internacional, 2 nacional, 3 local)1\n",
            "¿Cuanto duro la llamada en minutos?\n",
            "7\n",
            "¿De que tipo es la llamada? (1 internacional, 2 nacional, 3 local)2\n",
            "¿Cuanto duro la llamada en minutos?\n",
            "6\n",
            "Error\n",
            "¿De que tipo es la llamada? (1 internacional, 2 nacional, 3 local)2\n",
            "¿Cuanto duro la llamada en minutos?\n",
            "12\n",
            "Error\n",
            "¿De que tipo es la llamada? (1 internacional, 2 nacional, 3 local)3\n",
            "¿Cuanto duro la llamada en minutos?\n",
            "5\n",
            "Error\n",
            "¿De que tipo es la llamada? (1 internacional, 2 nacional, 3 local)3\n",
            "¿Cuanto duro la llamada en minutos?\n",
            "7\n",
            "Error\n",
            "¿De que tipo es la llamada? (1 internacional, 2 nacional, 3 local)3\n",
            "¿Cuanto duro la llamada en minutos?\n",
            "15\n",
            "Error\n",
            "¿De que tipo es la llamada? (1 internacional, 2 nacional, 3 local)2\n",
            "¿Cuanto duro la llamada en minutos?\n",
            "16\n",
            "Error\n",
            "¿De que tipo es la llamada? (1 internacional, 2 nacional, 3 local)3\n",
            "¿Cuanto duro la llamada en minutos?\n",
            "7\n",
            "Error\n",
            "¿De que tipo es la llamada? (1 internacional, 2 nacional, 3 local)3\n",
            "¿Cuanto duro la llamada en minutos?\n",
            "6\n",
            "Error\n",
            "¿De que tipo es la llamada? (1 internacional, 2 nacional, 3 local)3\n",
            "¿Cuanto duro la llamada en minutos?\n",
            "4\n",
            "Error\n",
            "¿De que tipo es la llamada? (1 internacional, 2 nacional, 3 local)1\n",
            "¿Cuanto duro la llamada en minutos?\n",
            "11\n",
            "Error\n",
            "¿De que tipo es la llamada? (1 internacional, 2 nacional, 3 local)X\n",
            "¿Cuanto duro la llamada en minutos?\n",
            "-1\n",
            "El costo de la llamada es:  216.81000000000006\n"
          ],
          "name": "stdout"
        }
      ]
    },
    {
      "cell_type": "code",
      "metadata": {
        "id": "vS14fbqgdF1W",
        "colab": {
          "base_uri": "https://localhost:8080/"
        },
        "outputId": "933e048e-b99e-4524-b726-52774e20e18f"
      },
      "source": [
        "#Problema 3.16\r\n",
        "\r\n",
        "Tipo1 = 0\r\n",
        "Tipo2 = 0\r\n",
        "Tipo3 = 0\r\n",
        "Tipo4 = 0\r\n",
        "Tipo5 = 0\r\n",
        "Mctipo2 = 0\r\n",
        "\r\n",
        "N = int(input(\"Colocar el numero de caracteres\"))\r\n",
        "\r\n",
        "I =1\r\n",
        "\r\n",
        "while I <= N:\r\n",
        "  J = 1\r\n",
        "  Totvin = 0\r\n",
        "  while J<=5:\r\n",
        "    V = float(input(f\"Cantidad de litros de vino del tipo {J} producidos en el año {I} \"))\r\n",
        "    Totvin = Totvin + V\r\n",
        "    if (J == 1):\r\n",
        "      Tipo1 = Tipo1 + V\r\n",
        "    elif (J == 2):\r\n",
        "      Tipo2 = Tipo2 + V\r\n",
        "      if (V>Mctipo2):\r\n",
        "        Mctipo2 = V\r\n",
        "        Año = I\r\n",
        "    elif (J == 3):\r\n",
        "      Tipo3 = Tipo3 + V\r\n",
        "      if (V==0):\r\n",
        "        print(\"El año:\",I,\" no se produjo vino tipo 3\")\r\n",
        "    elif (J==4):\r\n",
        "      Tipo4 = Tipo4 + V\r\n",
        "    elif (J==5):\r\n",
        "      Tipo5 = Tipo5 + V\r\n",
        "    J = J+1\r\n",
        "  \r\n",
        "  print(\"Total litros producidos por año:\",Totvin)\r\n",
        "  I = I+1\r\n",
        "\r\n",
        "print(\"Total tipo 1:\",Tipo1)\r\n",
        "print(\"Total tipo 1:\",Tipo2)\r\n",
        "print(\"Total tipo 1:\",Tipo3)\r\n",
        "print(\"Total tipo 1:\",Tipo4)\r\n",
        "print(\"Total tipo 1:\",Tipo5)\r\n",
        "\r\n",
        "print(\"Año en que se produjo mayor cantidad de vino tipo2:\",Año,\"litros:\",Mctipo2)\r\n"
      ],
      "execution_count": null,
      "outputs": [
        {
          "output_type": "stream",
          "text": [
            "Colocar el numero de caracteres10\n",
            "Cantidad de litros de vino del tipo 1 producidos en el año 1 1\n",
            "Cantidad de litros de vino del tipo 2 producidos en el año 1 2\n",
            "Cantidad de litros de vino del tipo 3 producidos en el año 1 3\n",
            "Cantidad de litros de vino del tipo 4 producidos en el año 1 4\n",
            "Cantidad de litros de vino del tipo 5 producidos en el año 1 5\n",
            "Total litros producidos por año: 15.0\n",
            "Cantidad de litros de vino del tipo 1 producidos en el año 2 1\n",
            "Cantidad de litros de vino del tipo 2 producidos en el año 2 2\n",
            "Cantidad de litros de vino del tipo 3 producidos en el año 2 3\n",
            "Cantidad de litros de vino del tipo 4 producidos en el año 2 4\n",
            "Cantidad de litros de vino del tipo 5 producidos en el año 2 5\n",
            "Total litros producidos por año: 15.0\n",
            "Cantidad de litros de vino del tipo 1 producidos en el año 3 1\n",
            "Cantidad de litros de vino del tipo 2 producidos en el año 3 2\n",
            "Cantidad de litros de vino del tipo 3 producidos en el año 3 3\n",
            "Cantidad de litros de vino del tipo 4 producidos en el año 3 4\n",
            "Cantidad de litros de vino del tipo 5 producidos en el año 3 5\n",
            "Total litros producidos por año: 15.0\n",
            "Cantidad de litros de vino del tipo 1 producidos en el año 4 1\n",
            "Cantidad de litros de vino del tipo 2 producidos en el año 4 2\n",
            "Cantidad de litros de vino del tipo 3 producidos en el año 4 3\n",
            "Cantidad de litros de vino del tipo 4 producidos en el año 4 4\n",
            "Cantidad de litros de vino del tipo 5 producidos en el año 4 5\n",
            "Total litros producidos por año: 15.0\n",
            "Cantidad de litros de vino del tipo 1 producidos en el año 5 1\n",
            "Cantidad de litros de vino del tipo 2 producidos en el año 5 2\n",
            "Cantidad de litros de vino del tipo 3 producidos en el año 5 3\n",
            "Cantidad de litros de vino del tipo 4 producidos en el año 5 4\n",
            "Cantidad de litros de vino del tipo 5 producidos en el año 5 5\n",
            "Total litros producidos por año: 15.0\n",
            "Cantidad de litros de vino del tipo 1 producidos en el año 6 1\n",
            "Cantidad de litros de vino del tipo 2 producidos en el año 6 2\n",
            "Cantidad de litros de vino del tipo 3 producidos en el año 6 3\n",
            "Cantidad de litros de vino del tipo 4 producidos en el año 6 4\n",
            "Cantidad de litros de vino del tipo 5 producidos en el año 6 5\n",
            "Total litros producidos por año: 15.0\n",
            "Cantidad de litros de vino del tipo 1 producidos en el año 7 1\n",
            "Cantidad de litros de vino del tipo 2 producidos en el año 7 2\n",
            "Cantidad de litros de vino del tipo 3 producidos en el año 7 3\n",
            "Cantidad de litros de vino del tipo 4 producidos en el año 7 4\n",
            "Cantidad de litros de vino del tipo 5 producidos en el año 7 5\n",
            "Total litros producidos por año: 15.0\n",
            "Cantidad de litros de vino del tipo 1 producidos en el año 8 1\n",
            "Cantidad de litros de vino del tipo 2 producidos en el año 8 2\n",
            "Cantidad de litros de vino del tipo 3 producidos en el año 8 3\n",
            "Cantidad de litros de vino del tipo 4 producidos en el año 8 4\n",
            "Cantidad de litros de vino del tipo 5 producidos en el año 8 5\n",
            "Total litros producidos por año: 15.0\n",
            "Cantidad de litros de vino del tipo 1 producidos en el año 9 1\n",
            "Cantidad de litros de vino del tipo 2 producidos en el año 9 2\n",
            "Cantidad de litros de vino del tipo 3 producidos en el año 9 3\n",
            "Cantidad de litros de vino del tipo 4 producidos en el año 9 4\n",
            "Cantidad de litros de vino del tipo 5 producidos en el año 9 5\n",
            "Total litros producidos por año: 15.0\n",
            "Cantidad de litros de vino del tipo 1 producidos en el año 10 1\n",
            "Cantidad de litros de vino del tipo 2 producidos en el año 10 2\n",
            "Cantidad de litros de vino del tipo 3 producidos en el año 10 3\n",
            "Cantidad de litros de vino del tipo 4 producidos en el año 10 4\n",
            "Cantidad de litros de vino del tipo 5 producidos en el año 10 5\n",
            "Total litros producidos por año: 15.0\n",
            "Total tipo 1: 10.0\n",
            "Total tipo 1: 20.0\n",
            "Total tipo 1: 30.0\n",
            "Total tipo 1: 40.0\n",
            "Total tipo 1: 50.0\n",
            "Año en que se produjo mayor cantidad de vino tipo2: 1 litros: 2.0\n"
          ],
          "name": "stdout"
        }
      ]
    },
    {
      "cell_type": "code",
      "metadata": {
        "colab": {
          "base_uri": "https://localhost:8080/"
        },
        "id": "q4o_3ffiKLwt",
        "outputId": "5345a66d-f70a-4834-ff7e-9fddcf0da1fe"
      },
      "source": [
        "#Problema 3.17\r\n",
        "\r\n",
        "I = 3\r\n",
        "Sp = 0\r\n",
        "\r\n",
        "M = float(input(\"Numero limite que se ingresa:\"))\r\n",
        "\r\n",
        "if M>=1:\r\n",
        "  Sp = Sp + 1\r\n",
        "  print(\"Numero primo:\",1)\r\n",
        "\r\n",
        "  if (M>=2):\r\n",
        "    Sp = Sp + 1\r\n",
        "    print(\"Numero primo\",2)\r\n",
        "while I <= M:\r\n",
        "  Band = 'V'\r\n",
        "  J = 3\r\n",
        "\r\n",
        "  while (J<(I/2)) and Band == 'V':\r\n",
        "    if (I%J):  #<--------------------------------Revisar\r\n",
        "      Band = 'F'\r\n",
        "    J = J+2\r\n",
        "  else:\r\n",
        "    if Band == 'V':\r\n",
        "      print(\"Numero Primo: \",I)\r\n",
        "      Sp = Sp + 1\r\n",
        "    I = I + 2\r\n",
        "  \r\n",
        "print(\"Entre 1 y M hay\",Sp,\"numeros primos\")\r\n"
      ],
      "execution_count": 4,
      "outputs": [
        {
          "output_type": "stream",
          "text": [
            "Numero limite que se ingresa:10\n",
            "Numero primo: 1\n",
            "Numero primo 2\n",
            "Numero Primo:  3\n",
            "Numero Primo:  5\n",
            "Numero Primo:  9\n",
            "Entre 1 y M hay 5 numeros primos\n"
          ],
          "name": "stdout"
        }
      ]
    },
    {
      "cell_type": "code",
      "metadata": {
        "colab": {
          "base_uri": "https://localhost:8080/"
        },
        "id": "iQgFt81EMrTx",
        "outputId": "f88d7617-71fd-4833-bfc0-5207a79f6040"
      },
      "source": [
        "#Problema 3.18\r\n",
        "\r\n",
        "Maypro = 0\r\n",
        "\r\n",
        "N = int(input(\"Numero de fabricas registradas en la Secretaría de Industrias: \"))\r\n",
        "\r\n",
        "if (N<=100):\r\n",
        "  I = 1\r\n",
        "\r\n",
        "  while (I<=N):\r\n",
        "    Fabrica = int(input(\"Colocar numero de fabrica\"))\r\n",
        "    Totanu = 0\r\n",
        "    J = 1\r\n",
        "    \r\n",
        "    while j<=12:\r\n",
        "      Mes = float(input(\"Colocar el mes: \"))\r\n",
        "      Totanu = Totanu + Mes\r\n",
        "      \r\n",
        "      if (J == 7 and Mes > 3000000):\r\n",
        "        print(Fabrica)\r\n",
        "      J = J+1\r\n",
        "    else:\r\n",
        "      if Totanu >Maypro:\r\n",
        "        Maypro = Totanu\r\n",
        "        Clave = Fabrica\r\n",
        "      print(\"Producción anual fabrica: \",Fabrica,\":$\",Totanu)\r\n",
        "      I = I+1\r\n",
        "  print(\"Fabrica que mas produjo en el año: \",Clave,\"Producción: $\",Maypro)\r\n",
        "else:\r\n",
        "  print(\"Error en numero de fabricas\")\r\n",
        "\r\n"
      ],
      "execution_count": null,
      "outputs": [
        {
          "output_type": "stream",
          "text": [
            "Numero de fabricas registradas en la Secretaría de Industrias: 1001\n",
            "Error en numero de fabricas\n"
          ],
          "name": "stdout"
        }
      ]
    },
    {
      "cell_type": "code",
      "metadata": {
        "id": "aRasvhbMdJCV",
        "colab": {
          "base_uri": "https://localhost:8080/",
          "height": 248
        },
        "outputId": "d551fb55-a697-488e-8380-a3a07bb1aa30"
      },
      "source": [
        "#Problema 3.19\r\n",
        "#Tampoco entiendo por que no funciona! :c\r\n",
        "N = int(input(\"Limite de numeros naturales que se probaran: \"))\r\n",
        "\r\n",
        "I = 1\r\n",
        "\r\n",
        "while (I <= N):\r\n",
        "  Sum = 0\r\n",
        "  J = 1\r\n",
        "\r\n",
        "  while (J <= (I/2)):\r\n",
        "    if I%J == 0:\r\n",
        "      Sum = Sum + J\r\n",
        "    J = J + 1\r\n",
        "  else:\r\n",
        "    if (Sum == I):\r\n",
        "      print(f\"{I} Es un numero perfecto\")\r\n",
        "      I = I + 1\r\n"
      ],
      "execution_count": 10,
      "outputs": [
        {
          "output_type": "stream",
          "text": [
            "Limite de numeros naturales que se probaran: 7\n"
          ],
          "name": "stdout"
        },
        {
          "output_type": "error",
          "ename": "KeyboardInterrupt",
          "evalue": "ignored",
          "traceback": [
            "\u001b[0;31m---------------------------------------------------------------------------\u001b[0m",
            "\u001b[0;31mKeyboardInterrupt\u001b[0m                         Traceback (most recent call last)",
            "\u001b[0;32m<ipython-input-10-efe121db9079>\u001b[0m in \u001b[0;36m<module>\u001b[0;34m()\u001b[0m\n\u001b[1;32m     11\u001b[0m   \u001b[0;32mwhile\u001b[0m \u001b[0mj\u001b[0m \u001b[0;34m<=\u001b[0m \u001b[0mint\u001b[0m\u001b[0;34m(\u001b[0m\u001b[0mI\u001b[0m\u001b[0;34m/\u001b[0m\u001b[0;36m2\u001b[0m\u001b[0;34m)\u001b[0m\u001b[0;34m:\u001b[0m\u001b[0;34m\u001b[0m\u001b[0;34m\u001b[0m\u001b[0m\n\u001b[1;32m     12\u001b[0m     \u001b[0;32mif\u001b[0m \u001b[0mI\u001b[0m\u001b[0;34m%\u001b[0m\u001b[0mj\u001b[0m \u001b[0;34m==\u001b[0m \u001b[0;36m0\u001b[0m\u001b[0;34m:\u001b[0m\u001b[0;34m\u001b[0m\u001b[0;34m\u001b[0m\u001b[0m\n\u001b[0;32m---> 13\u001b[0;31m       \u001b[0mcont\u001b[0m \u001b[0;34m+=\u001b[0m \u001b[0mj\u001b[0m\u001b[0;34m\u001b[0m\u001b[0;34m\u001b[0m\u001b[0m\n\u001b[0m\u001b[1;32m     14\u001b[0m     \u001b[0mJ\u001b[0m \u001b[0;34m+=\u001b[0m \u001b[0;36m1\u001b[0m\u001b[0;34m\u001b[0m\u001b[0;34m\u001b[0m\u001b[0m\n\u001b[1;32m     15\u001b[0m   \u001b[0;32mif\u001b[0m \u001b[0mcont\u001b[0m \u001b[0;34m==\u001b[0m \u001b[0mI\u001b[0m\u001b[0;34m:\u001b[0m\u001b[0;34m\u001b[0m\u001b[0;34m\u001b[0m\u001b[0m\n",
            "\u001b[0;31mKeyboardInterrupt\u001b[0m: "
          ]
        }
      ]
    }
  ]
}