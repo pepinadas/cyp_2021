{
  "nbformat": 4,
  "nbformat_minor": 0,
  "metadata": {
    "colab": {
      "name": "CyP19_Nov.ipynb",
      "provenance": [],
      "authorship_tag": "ABX9TyPbvUagrxUEfJVsBNN/vERl",
      "include_colab_link": true
    },
    "kernelspec": {
      "name": "python3",
      "display_name": "Python 3"
    }
  },
  "cells": [
    {
      "cell_type": "markdown",
      "metadata": {
        "id": "view-in-github",
        "colab_type": "text"
      },
      "source": [
        "<a href=\"https://colab.research.google.com/github/pepinadas/cyp_2021/blob/main/CyP19_Nov.ipynb\" target=\"_parent\"><img src=\"https://colab.research.google.com/assets/colab-badge.svg\" alt=\"Open In Colab\"/></a>"
      ]
    },
    {
      "cell_type": "code",
      "metadata": {
        "colab": {
          "base_uri": "https://localhost:8080/"
        },
        "id": "XiAVqKhYhEgf",
        "outputId": "48d795da-95cc-49d2-9629-f302135fd1f4"
      },
      "source": [
        "#Concepto de asignación\n",
        "i = 0\n",
        "i=i+1\n",
        "i=i+1\n",
        "print(f\"i = { i }\")\n",
        "j= 5 ** 2 / 3\n",
        "print(f\"j = { j }\")"
      ],
      "execution_count": 4,
      "outputs": [
        {
          "output_type": "stream",
          "text": [
            "i = 2\n",
            "j = 8.333333333333334\n"
          ],
          "name": "stdout"
        }
      ]
    },
    {
      "cell_type": "code",
      "metadata": {
        "colab": {
          "base_uri": "https://localhost:8080/"
        },
        "id": "3rX0OvgCm1FW",
        "outputId": "0a61f42d-1d66-4d6d-a91b-aa20adde4e53"
      },
      "source": [
        "#Declaración de variables (reservando memoria)\n",
        "A = 0\n",
        "B = 0\n",
        "C = 0\n",
        "D = 0\n",
        "\n",
        "A = int(input(\"Dame un valor entero: \"))\n",
        "B = int(input(\"Dame un valor entero: \"))\n",
        "C = int(input(\"Dame un valor entero: \"))\n",
        "D = int(input(\"Dame un valor entero: \"))\n",
        "\n",
        "print(A)\n",
        "print(B)\n",
        "print(C)\n",
        "print(D)"
      ],
      "execution_count": 7,
      "outputs": [
        {
          "output_type": "stream",
          "text": [
            "Dame un valor entero: 5\n",
            "Dame un valor entero: 10\n",
            "Dame un valor entero: 20\n",
            "Dame un valor entero: 30\n",
            "5\n",
            "10\n",
            "20\n",
            "30\n"
          ],
          "name": "stdout"
        }
      ]
    },
    {
      "cell_type": "code",
      "metadata": {
        "colab": {
          "base_uri": "https://localhost:8080/"
        },
        "id": "uSge2T7QpKWd",
        "outputId": "7df9be6c-8003-453c-9ffe-cb04dbac32ba"
      },
      "source": [
        "#Ejemplo 1.7\n",
        "A = 0\n",
        "B = 0\n",
        "RES = 0\n",
        "\n",
        "A = int(input(\"Dame un entero: \"))\n",
        "B= int(input(\"Dame otro entero: \"))\n",
        "RES = (A + B)** 2/3\n",
        "print(RES)"
      ],
      "execution_count": 9,
      "outputs": [
        {
          "output_type": "stream",
          "text": [
            "Dame un entero: 5\n",
            "Dame otro entero: 6\n",
            "40.333333333333336\n"
          ],
          "name": "stdout"
        }
      ]
    },
    {
      "cell_type": "code",
      "metadata": {
        "colab": {
          "base_uri": "https://localhost:8080/"
        },
        "id": "G9I7dkUPqmDK",
        "outputId": "f88c9cc9-c901-4fc9-d6f4-2d75c0785d43"
      },
      "source": [
        "#Ejemplo 1.8\n",
        "\n",
        "Mat = 0\n",
        "Cal1 = 0\n",
        "Cal2 = 0\n",
        "Cal3 = 0\n",
        "Cal4 = 0\n",
        "Cal5 = 0\n",
        "Pro = 0\n",
        "\n",
        "Mat = input(\"Ingrese tu nombre: \")\n",
        "Cal1 = float(input(\"Ingresa la calificacion: \"))\n",
        "Cal2 = float(input(\"Ingresa la calificacion: \"))\n",
        "Cal3 = float(input(\"Ingresa la calificacion: \"))\n",
        "Cal4 = float(input(\"Ingresa la calificacion: \"))\n",
        "Cal5 = float(input(\"Ingresa la calificacion: \"))\n",
        "\n",
        "\n",
        "Pro = ((Cal1+Cal2+Cal3+Cal4+Cal5)/5)\n",
        "\n",
        "\n",
        "print(\"La calificacion obtenida por el alumno\" ,Mat,\"es :\",Pro)\n"
      ],
      "execution_count": 19,
      "outputs": [
        {
          "output_type": "stream",
          "text": [
            "Ingrese tu nombreAngel\n",
            "Ingresa la calificacion: 10\n",
            "Ingresa la calificacion: 10\n",
            "Ingresa la calificacion: 10\n",
            "Ingresa la calificacion: 10\n",
            "Ingresa la calificacion: 10\n",
            "La calificacion obtenida por el alumno Angel es : 10.0\n"
          ],
          "name": "stdout"
        }
      ]
    },
    {
      "cell_type": "code",
      "metadata": {
        "colab": {
          "base_uri": "https://localhost:8080/"
        },
        "id": "8pVgF68xxsOb",
        "outputId": "0a29389d-68f0-42ec-b27a-91820223dbcd"
      },
      "source": [
        "#Ejemplo 1.9\n",
        "Num = 0\n",
        "Cua = 0\n",
        "Cub = 0\n",
        "\n",
        "Num = int(input(\"Colocar un numero para elevar al cuadrado y al cubo:\"))\n",
        "\n",
        "Cua = Num * Num\n",
        "Cub = Num ** 3\n",
        "\n",
        "print(\"El cuadrado del numero es\",Cua,\"y el cubo es\",Cub)"
      ],
      "execution_count": 25,
      "outputs": [
        {
          "output_type": "stream",
          "text": [
            "Colocar un numero para elevar al cuadrado y al cubo:7\n",
            "El cuadrado del numero es 49 y el cubo es 343\n"
          ],
          "name": "stdout"
        }
      ]
    },
    {
      "cell_type": "code",
      "metadata": {
        "colab": {
          "base_uri": "https://localhost:8080/"
        },
        "id": "6FkbZ2Ln0FG-",
        "outputId": "4a2460cf-b827-40d6-f13c-3518f396adeb"
      },
      "source": [
        "#Ejemplo 1.10\n",
        "\n",
        "Base = 0\n",
        "Altu = 0\n",
        "\n",
        "print(\"Se calculara el perimetro de un cuadrado\")\n",
        "Base = float(input(\"Colocar la base: \"))\n",
        "Altu = float(input(\"Colocar la altura: \"))\n",
        "\n",
        "print(\"El resultado es:\",(Base+Altu)*2)"
      ],
      "execution_count": 29,
      "outputs": [
        {
          "output_type": "stream",
          "text": [
            "Se calculara el perimetro de un cuadrado\n",
            "Colocar la base: 1\n",
            "Colocar la altura: 2\n",
            "El resultado es: 6.0\n"
          ],
          "name": "stdout"
        }
      ]
    }
  ]
}