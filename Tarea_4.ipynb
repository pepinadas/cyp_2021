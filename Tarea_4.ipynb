{
  "nbformat": 4,
  "nbformat_minor": 0,
  "metadata": {
    "colab": {
      "name": "Tarea 4.ipynb",
      "provenance": [],
      "authorship_tag": "ABX9TyOgyIwAhLvC3iyLMxAp+gni",
      "include_colab_link": true
    },
    "kernelspec": {
      "name": "python3",
      "display_name": "Python 3"
    }
  },
  "cells": [
    {
      "cell_type": "markdown",
      "metadata": {
        "id": "view-in-github",
        "colab_type": "text"
      },
      "source": [
        "<a href=\"https://colab.research.google.com/github/pepinadas/cyp_2021/blob/main/Tarea_4.ipynb\" target=\"_parent\"><img src=\"https://colab.research.google.com/assets/colab-badge.svg\" alt=\"Open In Colab\"/></a>"
      ]
    },
    {
      "cell_type": "code",
      "metadata": {
        "id": "62l-0kk2Ksx9",
        "colab": {
          "base_uri": "https://localhost:8080/"
        },
        "outputId": "e1253158-f8f6-41c1-f96a-310b2857da4c"
      },
      "source": [
        "#Ejemplo 2.4\n",
        "\n",
        "Nombre = input(\"Colocar el nombre del trabajador\\n\")\n",
        "Sueldo = float(input(\"Colocar el sueldo del trabajador\\n\"))\n",
        "\n",
        "if (Sueldo<=1000):\n",
        "  print(\"El sueldo del trabajador\",Nombre,\"despues de aumento es $\",(Sueldo*.15)+Sueldo)\n",
        "else:\n",
        "  print(\"El sueldo del trabajador\",Nombre,\"despues de aumento es $\",((Sueldo*.12)+Sueldo))"
      ],
      "execution_count": 4,
      "outputs": [
        {
          "output_type": "stream",
          "text": [
            "Colocar el nombre del trabajador\n",
            "Pez\n",
            "Colocar el sueldo del trabajador\n",
            "1950\n",
            "El sueldo del trabajador Pez despues de aumento es $ 2184.0\n"
          ],
          "name": "stdout"
        }
      ]
    },
    {
      "cell_type": "code",
      "metadata": {
        "colab": {
          "base_uri": "https://localhost:8080/"
        },
        "id": "4OlaiNCUn0BN",
        "outputId": "156efa3a-fa08-4830-e7b6-5cd93c233acd"
      },
      "source": [
        "#Ejemplo 2.8\n",
        "\n",
        "Cate = int(input(\"Colocar su categoria: \"))\n",
        "Sue = float(input(\"Colocar su sueldo: \"))\n",
        "\n",
        "if (Cate == 1):\n",
        "  print(\"Su sueldo de acuerdo a la categoria 1 despues del aumento es:\\n$\",(Sue*.15)+Sue)\n",
        "elif (Cate == 2):\n",
        "  print(\"Su sueldo de acuerdo a la categoria 2 despues del aumento es:\\n$\",(Sue*.10)+Sue)\n",
        "elif (Cate == 3):\n",
        "  print(\"Su sueldo de acuerdo a la categoria 3 despues del aumento es:\\n$\",(Sue*.08)+Sue)\n",
        "elif (Cate == 4):\n",
        "  print(\"Su sueldo de acuerdo a la categoria 4 despues del aumento es:\\n$\",(Sue*.07)+Sue)\n",
        "else:\n",
        "  print(\"Error esa categoria no existe\\nPor favor ingresar una categoria existente\")"
      ],
      "execution_count": 10,
      "outputs": [
        {
          "output_type": "stream",
          "text": [
            "Colocar su categoria: 4\n",
            "Colocar su sueldo: 6200\n",
            "Su sueldo de acuerdo a la categoria 4 despues del aumento es:\n",
            "$ 6634.0\n"
          ],
          "name": "stdout"
        }
      ]
    }
  ]
}