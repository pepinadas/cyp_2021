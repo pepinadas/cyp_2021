{
  "nbformat": 4,
  "nbformat_minor": 0,
  "metadata": {
    "colab": {
      "name": "CyP12nov2020.ipynb",
      "provenance": [],
      "collapsed_sections": [],
      "authorship_tag": "ABX9TyN/aVbcecJUZsVIragNlL2Q",
      "include_colab_link": true
    },
    "kernelspec": {
      "name": "python3",
      "display_name": "Python 3"
    }
  },
  "cells": [
    {
      "cell_type": "markdown",
      "metadata": {
        "id": "view-in-github",
        "colab_type": "text"
      },
      "source": [
        "<a href=\"https://colab.research.google.com/github/pepinadas/cyp_2021/blob/main/CyP12nov2020.ipynb\" target=\"_parent\"><img src=\"https://colab.research.google.com/assets/colab-badge.svg\" alt=\"Open In Colab\"/></a>"
      ]
    },
    {
      "cell_type": "code",
      "metadata": {
        "id": "Js2_N3D3cEja",
        "outputId": "bf33b659-9b14-4717-ef55-49b080ac8248",
        "colab": {
          "base_uri": "https://localhost:8080/"
        }
      },
      "source": [
        "#Ejemplo 1\n",
        "numero=int (input(\"Dame un numero:  \"))\n",
        "if numero >0:\n",
        "  print(\"El numero es positivo\")\n",
        "\n",
        "print(\"Fin del programa\")\n"
      ],
      "execution_count": 3,
      "outputs": [
        {
          "output_type": "stream",
          "text": [
            "Dame un numero-18\n",
            "El numero es negativo\n",
            "Fin del programa\n"
          ],
          "name": "stdout"
        }
      ]
    },
    {
      "cell_type": "code",
      "metadata": {
        "id": "RujAtYEifH0W",
        "outputId": "3c30991f-b083-48fc-909a-6e631c3e3272",
        "colab": {
          "base_uri": "https://localhost:8080/"
        }
      },
      "source": [
        "#Ejemplo 2\n",
        "\n",
        "numero=int (input(\"Dame un numero:  \"))\n",
        "if numero >0:\n",
        "  print(\"El numero es positivo\")\n",
        "else: #Sino imprime negativo\n",
        "  print(\"El numero es negativo\")\n",
        "\n",
        "print(\"Fin del programa\")\n"
      ],
      "execution_count": 7,
      "outputs": [
        {
          "output_type": "stream",
          "text": [
            "Dame un numero0\n",
            "El numero es positivo\n",
            "Fin del programa\n"
          ],
          "name": "stdout"
        }
      ]
    },
    {
      "cell_type": "code",
      "metadata": {
        "id": "JU-ZueVxgzHC",
        "outputId": "54c3a701-c89e-4bf1-dde2-7a480615914a",
        "colab": {
          "base_uri": "https://localhost:8080/"
        }
      },
      "source": [
        "#Ejemplo 3\n",
        "numero = int(input(\"Ingresa un número: \"))\n",
        "if numero>0:\n",
        "  print(\"El número es positivo\")\n",
        "elif numero==0:\n",
        "  print(\"El número cero\")\n",
        "else:\n",
        "  print(\"El número es negativo\")\n",
        "\n",
        "print(\"Fin del programa\")"
      ],
      "execution_count": 9,
      "outputs": [
        {
          "output_type": "stream",
          "text": [
            "Ingresa un número: 0\n",
            "El número cero\n",
            "Fin del programa\n"
          ],
          "name": "stdout"
        }
      ]
    }
  ]
}