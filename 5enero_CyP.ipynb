{
  "nbformat": 4,
  "nbformat_minor": 0,
  "metadata": {
    "colab": {
      "name": "5enero_CyP.ipynb",
      "provenance": [],
      "collapsed_sections": [],
      "authorship_tag": "ABX9TyOu1sq4IQwUxCrvxfuV8U/9",
      "include_colab_link": true
    },
    "kernelspec": {
      "name": "python3",
      "display_name": "Python 3"
    }
  },
  "cells": [
    {
      "cell_type": "markdown",
      "metadata": {
        "id": "view-in-github",
        "colab_type": "text"
      },
      "source": [
        "<a href=\"https://colab.research.google.com/github/pepinadas/cyp_2021/blob/main/5enero_CyP.ipynb\" target=\"_parent\"><img src=\"https://colab.research.google.com/assets/colab-badge.svg\" alt=\"Open In Colab\"/></a>"
      ]
    },
    {
      "cell_type": "code",
      "metadata": {
        "colab": {
          "base_uri": "https://localhost:8080/"
        },
        "id": "Fg9PSuGHjk_N",
        "outputId": "24effd91-bcab-4c08-87e2-e7a76efa7893"
      },
      "source": [
        "\r\n",
        "\r\n",
        "\r\n",
        "Sueldos[0] = 12.3\r\n",
        "Sueldos[1] = 32.3\r\n",
        "Sueldos[2] = 22.3\r\n",
        "Sueldos[3] = 92.3\r\n",
        "Sueldos[4] = 2.3\r\n",
        "Sueldos[5] = 52.3\r\n",
        "Sueldos[6] = 72.3\r\n",
        "print(Sueldos)\r\n",
        "\r\n",
        "# Como le hacemos para asignarles un valor de el 1.0 al 7.0\r\n",
        "# con una estructura for\r\n",
        "\r\n",
        "for j in range(7):\r\n",
        " Sueldos[j]=float(input(\"Introduce un sueldo:\"))\r\n",
        "print(Sueldos)\r\n",
        "\r\n",
        "\r\n",
        "#Automatizar el rrecorrido de los elementos del arreglo\r\n",
        "\r\n",
        "for i in range(7):\r\n",
        "  print(f\"El trabajador {int(i)+1} gana ${Sueldos[i]}\")\r\n",
        "\r\n"
      ],
      "execution_count": null,
      "outputs": [
        {
          "output_type": "stream",
          "text": [
            "[12.3, 32.3, 22.3, 92.3, 2.3, 52.3, 72.3]\n",
            "Introduce un sueldo:1\n",
            "Introduce un sueldo:2\n",
            "Introduce un sueldo:3\n",
            "Introduce un sueldo:4\n",
            "Introduce un sueldo:5\n",
            "Introduce un sueldo:6\n",
            "Introduce un sueldo:7\n",
            "[1.0, 2.0, 3.0, 4.0, 5.0, 6.0, 7.0]\n",
            "El trabajador 1 gana $1.0\n",
            "El trabajador 2 gana $2.0\n",
            "El trabajador 3 gana $3.0\n",
            "El trabajador 4 gana $4.0\n",
            "El trabajador 5 gana $5.0\n",
            "El trabajador 6 gana $6.0\n",
            "El trabajador 7 gana $7.0\n"
          ],
          "name": "stdout"
        }
      ]
    },
    {
      "cell_type": "code",
      "metadata": {
        "colab": {
          "base_uri": "https://localhost:8080/"
        },
        "id": "zIOQ1t3do3Ep",
        "outputId": "8b22f715-698d-49ff-95db-9ffb50377dc4"
      },
      "source": [
        "#Problema 4.1\r\n",
        "\r\n",
        "Maximo = 7\r\n",
        "Sueldo = [0.0 for x in range (Maximo)]\r\n",
        "Suma = 0.0\r\n",
        "Promedio = 0.0\r\n",
        "\r\n",
        "for i in range(Maximo):\r\n",
        "  Sueldos[i] = float(input(f\"Dame el sueldo: \"))\r\n",
        "\r\n",
        "for i in range (Maximo):\r\n",
        "  print(f\"Trabajador {i + 1}, gana: {Sueldos[i]}\")\r\n",
        "\r\n",
        "for i in range(Maximo):\r\n",
        "  Suma = Suma + Sueldos[i]\r\n",
        "\r\n",
        "Promedio = Suma / Maximo\r\n",
        "\r\n",
        "print(f\"El promedio de sueldo es ${Promedio}\")\r\n",
        "\r\n",
        "for i in range(7):\r\n",
        "  if Sueldos[i] > Promedio:\r\n",
        "    print(f\"El trabajador {i+1} tiene un sueldo mayor al promedio\")"
      ],
      "execution_count": null,
      "outputs": [
        {
          "output_type": "stream",
          "text": [
            "Dame el sueldo: 4\n",
            "Dame el sueldo: 5\n",
            "Dame el sueldo: 4\n",
            "Dame el sueldo: 5\n",
            "Dame el sueldo: 4\n",
            "Dame el sueldo: 5\n",
            "Dame el sueldo: 4\n",
            "Trabajador 1, gana: 4.0\n",
            "Trabajador 2, gana: 5.0\n",
            "Trabajador 3, gana: 4.0\n",
            "Trabajador 4, gana: 5.0\n",
            "Trabajador 5, gana: 4.0\n",
            "Trabajador 6, gana: 5.0\n",
            "Trabajador 7, gana: 4.0\n",
            "El promedio de sueldo es $4.428571428571429\n",
            "El trabajador 2 tiene un sueldo mayor al promedio\n",
            "El trabajador 4 tiene un sueldo mayor al promedio\n",
            "El trabajador 6 tiene un sueldo mayor al promedio\n"
          ],
          "name": "stdout"
        }
      ]
    },
    {
      "cell_type": "code",
      "metadata": {
        "colab": {
          "base_uri": "https://localhost:8080/"
        },
        "id": "ccttYqsGssEM",
        "outputId": "c11c83ad-84b6-4971-f2b1-a21fc5d9c9c2"
      },
      "source": [
        "#Hacer un programa que solicite 5 valores enteros positivos y\r\n",
        "#una vez que se capture por teclado, el programa determine:\r\n",
        "    #1.- Cual es el mayor\r\n",
        "    #2.- Cual es el menor\r\n",
        "    #3.- Cual es el promedio\r\n",
        "\r\n",
        "Max = 5\r\n",
        "valor =  [0.0 for x in range(Max)]\r\n",
        "sum = 0.0\r\n",
        "prom = 0.0\r\n",
        "M = 0\r\n",
        "menor = 10000000000\r\n",
        "\r\n",
        "for i in range(Max):\r\n",
        "  valor[i] = int(input(\"Dame un valor entero positivo: \"))\r\n",
        "  if valor[i] > M:\r\n",
        "    M = valor[i]\r\n",
        "  elif valor[i] < menor:\r\n",
        "    m = valor[i]\r\n",
        "\r\n",
        "for i in range(Max):\r\n",
        "  sum = sum + valor[i]\r\n",
        "\r\n",
        "prom = sum / Max\r\n",
        "\r\n",
        "print(f\"El numero mayor es {M}\")\r\n",
        "print(f\"El numero menor es {m}\")\r\n",
        "print(f\"El promedio es {prom}\")\r\n"
      ],
      "execution_count": 38,
      "outputs": [
        {
          "output_type": "stream",
          "text": [
            "Dame un valor entero positivo: 1\n",
            "Dame un valor entero positivo: 2\n",
            "Dame un valor entero positivo: 3\n",
            "Dame un valor entero positivo: 4\n",
            "Dame un valor entero positivo: 5\n",
            "El numero mayor es 5\n",
            "El numero menor es 10000000000\n",
            "El promedio es 3.0\n"
          ],
          "name": "stdout"
        }
      ]
    },
    {
      "cell_type": "code",
      "metadata": {
        "id": "6nJRXI3TvlDs",
        "colab": {
          "base_uri": "https://localhost:8080/"
        },
        "outputId": "de0a4066-7473-4a55-f502-730a3089b87a"
      },
      "source": [
        "#Problema 4.1\r\n",
        "\r\n",
        "N = int(input(\"Ingrese el numero de elementos del arreglo: \"))\r\n",
        "Vec = []\r\n",
        "if 1 <= N and N <= 500:\r\n",
        "  Vec = [0 for x in range(N)]\r\n",
        "  for I in range(N):\r\n",
        "    Vec[I] = int(input(\"Ingrese valor: \" + str(I+1)+ \":\"))\r\n",
        "  print(\"Lista de numeros sin repeticiones:\")\r\n",
        "  I = 0\r\n",
        "  while I < N:\r\n",
        "    print(Vec[I]) \r\n",
        "    Repet = Vec[I]\r\n",
        "    while I < N and Repet == Vec [I]:\r\n",
        "      I = I + 1 \r\n",
        "  I = I + 1\r\n",
        "\r\n",
        "\r\n",
        "else:\r\n",
        "  print (\"El número de elementos del arreglo es incorrecto\")"
      ],
      "execution_count": 59,
      "outputs": [
        {
          "output_type": "stream",
          "text": [
            "Ingrese el numero de elementos del arreglo: 10\n",
            "Ingrese valor: 1:2\n",
            "Ingrese valor: 2:3\n",
            "Ingrese valor: 3:3\n",
            "Ingrese valor: 4:3\n",
            "Ingrese valor: 5:10\n",
            "Ingrese valor: 6:20\n",
            "Ingrese valor: 7:20\n",
            "Ingrese valor: 8:40\n",
            "Ingrese valor: 9:43\n",
            "Ingrese valor: 10:51\n",
            "Lista de numeros sin repeticiones:\n",
            "2\n",
            "3\n",
            "10\n",
            "20\n",
            "40\n",
            "43\n",
            "51\n"
          ],
          "name": "stdout"
        }
      ]
    }
  ]
}